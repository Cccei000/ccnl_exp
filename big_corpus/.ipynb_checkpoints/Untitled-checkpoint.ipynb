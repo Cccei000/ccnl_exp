{
 "cells": [
  {
   "cell_type": "code",
   "execution_count": 1,
   "id": "dcca5712-96f8-4c9b-a8e8-8f5a44e0ee6e",
   "metadata": {},
   "outputs": [],
   "source": [
    "import os\n",
    "from transformers import AutoTokenizer\n",
    "import datasets\n",
    "import numpy as np\n",
    "import tqdm\n",
    "import matplotlib.pyplot as plt\n",
    "import re\n",
    "from itertools import accumulate\n",
    "\n",
    "%matplotlib inline"
   ]
  },
  {
   "cell_type": "code",
   "execution_count": 2,
   "id": "4d443f36-dd78-4a71-8706-93219638e2cd",
   "metadata": {},
   "outputs": [],
   "source": [
    "# 训练32k\n",
    "# 大小合适 32k以内 内容合适\n",
    "\n",
    "# 以章节切分 正则\n",
    "\n",
    "# yi的tokenizer下 章节token分布\n",
    "\n",
    "# 超过32k的章按段落分 段还可以切句 句不能再切了"
   ]
  },
  {
   "cell_type": "code",
   "execution_count": 3,
   "id": "4bfdfec9-fce3-4306-b73d-6b8efa80a461",
   "metadata": {},
   "outputs": [],
   "source": [
    "yi_res = open('./books_tokens_yi.txt', 'r')\n",
    "yi_res = yi_res.readlines()\n",
    "yi_res = [[int(each.strip().split()[-1]), each.strip().split()[0]] for each in yi_res]\n",
    "# yi_res = sorted(yi_res, reverse=True)\n",
    "tokenizer = AutoTokenizer.from_pretrained(\"01-ai/Yi-34B\", trust_remote_code=True)"
   ]
  },
  {
   "cell_type": "code",
   "execution_count": 4,
   "id": "78d807ed-524d-428a-859f-7dab10353314",
   "metadata": {},
   "outputs": [
    {
     "data": {
      "text/plain": [
       "54562"
      ]
     },
     "execution_count": 4,
     "metadata": {},
     "output_type": "execute_result"
    }
   ],
   "source": [
    "len(yi_res)"
   ]
  },
  {
   "cell_type": "code",
   "execution_count": 5,
   "id": "5e1913df-a276-474e-bca7-0261258947d5",
   "metadata": {},
   "outputs": [
    {
     "name": "stdout",
     "output_type": "stream",
     "text": [
      "36179 148601\n"
     ]
    }
   ],
   "source": [
    "rnd = np.random.randint(0, len(yi_res))\n",
    "# rnd =  16330 #25524 # # #   5994\n",
    "print(rnd, yi_res[rnd][0])\n",
    "file = open(os.path.join('/cognitive_comp/lincong/data/chinese_all_txt', yi_res[rnd][1].split('/')[-1]), 'r')\n",
    "file = file.readlines()"
   ]
  },
  {
   "cell_type": "code",
   "execution_count": 6,
   "id": "c265814b-d3df-4b99-a66f-3234101654bd",
   "metadata": {
    "scrolled": true
   },
   "outputs": [],
   "source": [
    "def picture_label_remover(text, sub='', verbose=False):\n",
    "    if verbose: print('Found', re.compile(r'jpg|jpeg|png|\\bgif\\b', re.I).findall(text))\n",
    "    pattern = re.compile(r'(!\\[[-\\w]*\\]\\([-\\.\\w\\/]*)(jpg|jpeg|png|gif)(\\))', re.I)\n",
    "    if verbose: print('Replacing', pattern.findall(text))\n",
    "    processed_text = pattern.sub(sub, text)\n",
    "    if verbose: print('Still found', re.compile(r'(.*)(jpg|jpeg|png|\\bgif\\b)(.*)', re.I).findall(processed_text))\n",
    "    \n",
    "    return processed_text\n",
    "\n",
    "def bookmark_remover(text, sub='', verbose=False):\n",
    "    pattern = re.compile(r'\\([-\\.\\w\\/]*html[#-\\.\\w\\/]*\\)', re.I)\n",
    "    if verbose: print('Found', pattern.findall(text))\n",
    "    processed_text = pattern.sub(sub, text)\n",
    "    if verbose: print('Still found', re.compile(r'.*html.*').findall(processed_text))\n",
    "    return processed_text"
   ]
  },
  {
   "cell_type": "code",
   "execution_count": 7,
   "id": "c11a2c8f-dea7-4350-873d-d5b9e65c538a",
   "metadata": {},
   "outputs": [],
   "source": [
    "def zh_ratio(text):\n",
    "    return len(re.findall('[\\u4e00-\\u9fff]', text)) / len(text)\n",
    "\n",
    "def is_bad_section(text):\n",
    "    pass\n",
    "\n",
    "def sections_iter(text):\n",
    "    rules = [\n",
    "        r'^[#]{1,4}[ \\n]+[^ \\n].*',\n",
    "        r'[ \\n][^#][#]{1,4}[ \\n]+[^ \\n].*',\n",
    "        r'[\\n][\\d]+ \\n',\n",
    "        r'[ \\n][零一二三四五六七八九十百]+[ \\n]',\n",
    "        r'[ \\n]+\\b第[0-9零一二三四五六七八九十百]+[卷章节篇部本折]\\b[^。，、（）《》〈〉；“”‘’\"\"''—]'\n",
    "    ] \n",
    "    combined_rules = '|'.join([rule for rule in rules])\n",
    "    pattern = re.compile(combined_rules)\n",
    "    res = list(re.finditer(pattern, text))\n",
    "    return res"
   ]
  },
  {
   "cell_type": "code",
   "execution_count": 9,
   "id": "647e65e0-ed8f-44b0-a44b-f80f241ceb82",
   "metadata": {},
   "outputs": [],
   "source": [
    "def split_text(text, sections):\n",
    "    results = []\n",
    "    last_text = ''\n",
    "    for i in range(len(sections)):\n",
    "        re_obj = sections[i]\n",
    "        start = re_obj.start()\n",
    "        end = sections[i + 1].start() if i < len(sections) - 1 else len(text)\n",
    "        sub_text = text[start: end]\n",
    "        \n",
    "        if len(tokenizer(last_text + sub_text).input_ids) <= 31990:\n",
    "            last_text += sub_text\n",
    "        else:\n",
    "            results.append(last_text)\n",
    "            last_text = ''\n",
    "    \n",
    "    return results\n",
    "            \n",
    "            # sub_text = sub_text.split('\\n\\n') # suppose every sub string is not too long, even if there's only one sub string\n",
    "            # sub_text = [('' if pos == 0 else '\\n\\n') + value for pos, value in enumerate(sub_text)]\n",
    "            # if len(sub_text) == 1:\n",
    "            #     results.append(last_text)\n",
    "            #     last_text = sub_text[0] \n",
    "            # else:\n",
    "            #     token_ids = tokenizer(sub_text).input_ids\n",
    "            #     num_tokens = list(map(lambda x: len(x), token_ids))\n",
    "            #     cum_tokens = list(accumulate(num_tokens))       \n",
    "    \n",
    "            #     while True:\n",
    "            #         need_tokens = 31990 - len(tokenizer(last_text).input_ids)\n",
    "            #         idx = [pos for pos, value in enumerate(cum_tokens) if value <= need_tokens][-1]\n",
    "            #         tokens_ctr = cum_tokens[idx]\n",
    "            #         results.append(last_text + ''.join(sub_text[:idx + 1]))\n",
    "            #         last_text = ''\n",
    "                        \n",
    "            #         sub_text = sub_text[idx + 1:]\n",
    "            #         cum_tokens = [value - tokens_ctr for pos, value in enumerate(cum_tokens) if pos > idx]"
   ]
  },
  {
   "cell_type": "code",
   "execution_count": null,
   "id": "7f04ab05-73cc-4402-b8cc-b399b8efc322",
   "metadata": {},
   "outputs": [],
   "source": []
  },
  {
   "cell_type": "code",
   "execution_count": null,
   "id": "adcf5d45-6704-49b7-a0b0-d73823071f09",
   "metadata": {},
   "outputs": [
    {
     "name": "stderr",
     "output_type": "stream",
     "text": [
      "  3%|███▎                                                                                                          | 3/100 [00:00<00:10,  8.95it/s]"
     ]
    },
    {
     "name": "stdout",
     "output_type": "stream",
     "text": [
      "188307\n",
      "112536\n"
     ]
    },
    {
     "name": "stderr",
     "output_type": "stream",
     "text": [
      "  7%|███████▋                                                                                                      | 7/100 [00:00<00:06, 15.32it/s]"
     ]
    },
    {
     "name": "stdout",
     "output_type": "stream",
     "text": [
      "69952\n",
      "70307\n"
     ]
    },
    {
     "name": "stderr",
     "output_type": "stream",
     "text": [
      "  9%|█████████▉                                                                                                    | 9/100 [00:01<00:23,  3.86it/s]"
     ]
    },
    {
     "name": "stdout",
     "output_type": "stream",
     "text": [
      "517756\n"
     ]
    },
    {
     "name": "stderr",
     "output_type": "stream",
     "text": [
      " 10%|██████████▉                                                                                                  | 10/100 [00:02<00:23,  3.86it/s]"
     ]
    },
    {
     "name": "stdout",
     "output_type": "stream",
     "text": [
      "114446\n"
     ]
    },
    {
     "name": "stderr",
     "output_type": "stream",
     "text": [
      " 11%|███████████▉                                                                                                 | 11/100 [00:03<00:38,  2.30it/s]"
     ]
    },
    {
     "name": "stdout",
     "output_type": "stream",
     "text": [
      "94569\n"
     ]
    },
    {
     "name": "stderr",
     "output_type": "stream",
     "text": [
      " 15%|████████████████▎                                                                                            | 15/100 [00:04<00:27,  3.06it/s]"
     ]
    },
    {
     "name": "stdout",
     "output_type": "stream",
     "text": [
      "239119\n",
      "107986\n"
     ]
    },
    {
     "name": "stderr",
     "output_type": "stream",
     "text": [
      " 17%|██████████████████▌                                                                                          | 17/100 [00:04<00:19,  4.31it/s]"
     ]
    },
    {
     "name": "stdout",
     "output_type": "stream",
     "text": [
      "100292\n",
      "64450\n"
     ]
    },
    {
     "name": "stderr",
     "output_type": "stream",
     "text": [
      " 20%|█████████████████████▊                                                                                       | 20/100 [00:04<00:15,  5.13it/s]"
     ]
    },
    {
     "name": "stdout",
     "output_type": "stream",
     "text": [
      "198631\n"
     ]
    },
    {
     "name": "stderr",
     "output_type": "stream",
     "text": [
      " 23%|█████████████████████████                                                                                    | 23/100 [00:06<00:28,  2.69it/s]"
     ]
    },
    {
     "name": "stdout",
     "output_type": "stream",
     "text": [
      "797889\n",
      "62996\n",
      "94255\n"
     ]
    },
    {
     "name": "stderr",
     "output_type": "stream",
     "text": [
      " 25%|███████████████████████████▎                                                                                 | 25/100 [00:07<00:20,  3.66it/s]"
     ]
    },
    {
     "name": "stdout",
     "output_type": "stream",
     "text": [
      "64883\n",
      "45273\n"
     ]
    },
    {
     "name": "stderr",
     "output_type": "stream",
     "text": [
      " 27%|█████████████████████████████▍                                                                               | 27/100 [00:07<00:15,  4.61it/s]"
     ]
    },
    {
     "name": "stdout",
     "output_type": "stream",
     "text": [
      "150082\n",
      "87305\n"
     ]
    },
    {
     "name": "stderr",
     "output_type": "stream",
     "text": [
      " 29%|███████████████████████████████▌                                                                             | 29/100 [00:07<00:14,  4.82it/s]"
     ]
    },
    {
     "name": "stdout",
     "output_type": "stream",
     "text": [
      "118652\n",
      "102402\n"
     ]
    },
    {
     "name": "stderr",
     "output_type": "stream",
     "text": [
      " 33%|███████████████████████████████████▉                                                                         | 33/100 [00:08<00:11,  5.97it/s]"
     ]
    },
    {
     "name": "stdout",
     "output_type": "stream",
     "text": [
      "172159\n",
      "58395\n"
     ]
    },
    {
     "name": "stderr",
     "output_type": "stream",
     "text": [
      " 37%|████████████████████████████████████████▎                                                                    | 37/100 [00:08<00:06,  9.08it/s]"
     ]
    },
    {
     "name": "stdout",
     "output_type": "stream",
     "text": [
      "103255\n",
      "60477\n"
     ]
    },
    {
     "name": "stderr",
     "output_type": "stream",
     "text": [
      " 39%|██████████████████████████████████████████▌                                                                  | 39/100 [00:08<00:07,  8.29it/s]"
     ]
    },
    {
     "name": "stdout",
     "output_type": "stream",
     "text": [
      "216393\n"
     ]
    },
    {
     "name": "stderr",
     "output_type": "stream",
     "text": [
      " 43%|██████████████████████████████████████████████▊                                                              | 43/100 [00:09<00:05,  9.58it/s]"
     ]
    },
    {
     "name": "stdout",
     "output_type": "stream",
     "text": [
      "120837\n",
      "57362\n",
      "85100\n",
      "163955\n"
     ]
    },
    {
     "name": "stderr",
     "output_type": "stream",
     "text": [
      " 45%|█████████████████████████████████████████████████                                                            | 45/100 [00:44<04:37,  5.04s/it]"
     ]
    },
    {
     "name": "stdout",
     "output_type": "stream",
     "text": [
      "2952201\n"
     ]
    }
   ],
   "source": [
    "lengths = []\n",
    "\n",
    "for i in tqdm.tqdm(range(100)):\n",
    "    if int(yi_res[i][0]) < 32000: \n",
    "        continue\n",
    "    file = open(os.path.join('/cognitive_comp/lincong/data/chinese_all_txt', yi_res[i][1].split('/')[-1]), 'r')\n",
    "    file = file.readlines()\n",
    "    text = ''.join(file)\n",
    "    text = picture_label_remover(text)\n",
    "    text = bookmark_remover(text)\n",
    "    print(len(tokenizer(text).input_ids))\n",
    "    # if zh_ratio(text) < 0.5: \n",
    "    #     print(yi_res[i][1])\n",
    "    #     continue\n",
    "    # segs = sections_iter(text)\n",
    "    # if segs == []:\n",
    "    #     print(yi_res[i][1])\n",
    "    #     continue\n",
    "    # results = split_text(text, segs)\n",
    "    # # lengths.extend(list(map(len, tokenizer(results).input_ids)))"
   ]
  },
  {
   "cell_type": "code",
   "execution_count": 18,
   "id": "330eda03-a016-476d-83d9-f558dbaa8228",
   "metadata": {},
   "outputs": [
    {
     "data": {
      "text/plain": [
       "(array([0., 0., 0., 0., 0., 0., 0., 0., 0., 0.]),\n",
       " array([0. , 0.1, 0.2, 0.3, 0.4, 0.5, 0.6, 0.7, 0.8, 0.9, 1. ]),\n",
       " <BarContainer object of 10 artists>)"
      ]
     },
     "execution_count": 18,
     "metadata": {},
     "output_type": "execute_result"
    },
    {
     "data": {
      "image/png": "[encoded data removed]",
      "text/plain": [
       "<Figure size 640x480 with 1 Axes>"
      ]
     },
     "metadata": {},
     "output_type": "display_data"
    }
   ],
   "source": [
    "plt.hist(lengths)"
   ]
  },
  {
   "cell_type": "code",
   "execution_count": 1520,
   "id": "bfd670f6-7d5d-4c2e-a999-bafcd89b5156",
   "metadata": {},
   "outputs": [
    {
     "data": {
      "text/plain": [
       "[31902, 24282]"
      ]
     },
     "execution_count": 1520,
     "metadata": {},
     "output_type": "execute_result"
    }
   ],
   "source": []
  },
  {
   "cell_type": "code",
   "execution_count": null,
   "id": "23c5b626-c788-416f-8d2d-d815c6ece8e5",
   "metadata": {},
   "outputs": [],
   "source": []
  },
  {
   "cell_type": "code",
   "execution_count": null,
   "id": "a52c2cc8-10d1-4e5e-8d6e-08e26ff1e29e",
   "metadata": {},
   "outputs": [],
   "source": []
  },
  {
   "cell_type": "code",
   "execution_count": null,
   "id": "2b19f203-77d9-4b75-97dc-5dafe437bd72",
   "metadata": {},
   "outputs": [],
   "source": []
  },
  {
   "cell_type": "code",
   "execution_count": null,
   "id": "2a510728-c07a-42d6-a34b-d8d466d72289",
   "metadata": {},
   "outputs": [],
   "source": []
  },
  {
   "cell_type": "code",
   "execution_count": null,
   "id": "1bec4a5e-ed0f-4e1c-9600-4d1a21053f9c",
   "metadata": {},
   "outputs": [],
   "source": [
    "版权信息\n",
    "参考书目  \n",
    "参考文献\n",
    "缩写\n",
    "图书在版编目（CIP）数据\n",
    "校勘所据书目\n",
    "\n",
    "正文非中文多的情况：\n",
    "很多英文正文\n",
    "注释有很多英文内容\n",
    "代码\n",
    "公式"
   ]
  },
  {
   "cell_type": "code",
   "execution_count": null,
   "id": "ae2ec055-9645-4f05-b199-3b715e90511d",
   "metadata": {},
   "outputs": [],
   "source": []
  },
  {
   "cell_type": "code",
   "execution_count": null,
   "id": "1bacb114-45a6-4641-92c5-6ffbfbe4ea6f",
   "metadata": {},
   "outputs": [],
   "source": [
    "图书在版编目（CIP）数据\n",
    "\n",
    "茨威格小说全集.第一卷，中短篇小说/（奥）斯·茨威格著；张玉书等译.—北京：人民文学出版社，2019\n",
    "\n",
    "ISBN 978－7-02-014744-1\n",
    "\n",
    "Ⅰ.①茨…Ⅱ.①斯…②张…Ⅲ.①小说集—奥地利—现代②短篇小说—小说集—奥地利—现代③中篇小说—小说集—奥地利—现代Ⅳ.①I521.45\n",
    "\n",
    "中国版本图书馆CIP数据核字（2019）第051471号\n",
    "\n",
    "责任编辑 欧阳韬\n",
    "\n",
    "装帧设计 黄云香\n",
    "\n",
    "责任印制 任祎\n",
    "\n",
    "出版发行 人民文学出版社\n",
    "\n",
    "社 址 北京市朝内大街166号\n",
    "\n",
    "邮政编码 100705\n",
    "\n",
    "网 址 http://www.rw.cn.com\n",
    "\n",
    "印 刷 三河市中晟雅豪印务有限公司\n",
    "\n",
    "经 销 全国新华书店等\n",
    "\n",
    "字 数 1458千字\n",
    "\n",
    "开 本 880毫米×1230毫米 1/32\n",
    "\n",
    "印 张 63.125 插页4\n",
    "\n",
    "印 数 1—6000\n",
    "\n",
    "版 次 2019年5月北京第1版\n",
    "\n",
    "印 次 2019年5月第1次印刷\n",
    "\n",
    "书 号 978-7-02-014744-1\n",
    "\n",
    "定 价 198.00元（全四卷）"
   ]
  }
 ],
 "metadata": {
  "kernelspec": {
   "display_name": "Python 3 (ipykernel)",
   "language": "python",
   "name": "python3"
  },
  "language_info": {
   "codemirror_mode": {
    "name": "ipython",
    "version": 3
   },
   "file_extension": ".py",
   "mimetype": "text/x-python",
   "name": "python",
   "nbconvert_exporter": "python",
   "pygments_lexer": "ipython3",
   "version": "3.10.13"
  }
 },
 "nbformat": 4,
 "nbformat_minor": 5
}
