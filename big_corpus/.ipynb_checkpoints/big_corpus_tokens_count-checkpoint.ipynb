{
 "cells": [
  {
   "cell_type": "code",
   "execution_count": 2,
   "id": "b41a29e9-0ed3-444c-93a8-88aa157b1e77",
   "metadata": {},
   "outputs": [],
   "source": [
    "import os\n",
    "from transformers import AutoTokenizer\n",
    "import datasets\n",
    "import numpy as np\n",
    "import tqdm\n",
    "import matplotlib.pyplot as plt\n",
    "\n",
    "%matplotlib inline"
   ]
  },
  {
   "cell_type": "code",
   "execution_count": 6,
   "id": "1215f450-a429-4eff-bd86-4a739d809126",
   "metadata": {},
   "outputs": [
    {
     "data": {
      "text/plain": [
       "54562"
      ]
     },
     "execution_count": 6,
     "metadata": {},
     "output_type": "execute_result"
    }
   ],
   "source": [
    "len(os.listdir(\"/cognitive_comp/common_data/big_corpus/book_zlib/chinese_all_txt/\"))"
   ]
  },
  {
   "cell_type": "code",
   "execution_count": null,
   "id": "ec1e0610-d827-4166-bffa-e23573f013be",
   "metadata": {},
   "outputs": [],
   "source": []
  },
  {
   "cell_type": "code",
   "execution_count": 17,
   "id": "13faef84-3da0-467a-9a07-72509589faa1",
   "metadata": {},
   "outputs": [],
   "source": [
    "def count_tokens(path, tokenizer):\n",
    "    with open(path, 'r') as file:\n",
    "        file = file.readlines()\n",
    "    if len(file) == 0: \n",
    "        return 0\n",
    "    tokens = tokenizer(file).input_ids\n",
    "    ctr = 0\n",
    "    for each in tokens:\n",
    "        ctr += len(each)\n",
    "    return ctr"
   ]
  },
  {
   "cell_type": "code",
   "execution_count": 18,
   "id": "d4254529-74a6-46c9-a13d-c40f34b543ae",
   "metadata": {},
   "outputs": [
    {
     "name": "stderr",
     "output_type": "stream",
     "text": [
      "  0%|▏                                                                                                                 | 115/54562 [00:20<3:02:48,  4.96it/s]Token indices sequence length is longer than the specified maximum sequence length for this model (5235 > 4096). Running this sequence through the model will result in indexing errors\n",
      "100%|████████████████████████████████████████████████████████████████████████████████████████████████████████████████| 54562/54562 [3:50:37<00:00,  3.94it/s]\n"
     ]
    }
   ],
   "source": [
    "folder = \"/cognitive_comp/common_data/big_corpus/book_zlib/chinese_all_txt/\"\n",
    "files = os.listdir(folder)\n",
    "tokenizer = AutoTokenizer.from_pretrained(\"01-ai/Yi-34B\")\n",
    "\n",
    "tokens_ctr = []\n",
    "empty_books = []\n",
    "for file in tqdm.tqdm(files):\n",
    "    try:\n",
    "        ctr = count_tokens(os.path.join(folder, file), tokenizer)\n",
    "        if ctr:\n",
    "            tokens_ctr.append(ctr)\n",
    "        else:\n",
    "            empty_books.append(file)\n",
    "    except:\n",
    "        print(file)"
   ]
  },
  {
   "cell_type": "code",
   "execution_count": 22,
   "id": "5df15ca3-9077-41e9-b6b7-20febce9daac",
   "metadata": {},
   "outputs": [],
   "source": [
    "f = 'books_tokens.txt'\n",
    "f = open(f, 'a')\n",
    "pointer = 0\n",
    "for name in files:\n",
    "    if name in empty_books:\n",
    "        f.write(f\"{os.path.join(folder, name)} {0}\\n\")\n",
    "    else:\n",
    "        f.write(f\"{os.path.join(folder, name)} {tokens_ctr[pointer]}\\n\")\n",
    "        pointer += 1\n",
    "f.close()"
   ]
  },
  {
   "cell_type": "code",
   "execution_count": null,
   "id": "8e86d1f6-dca9-45c8-a110-4cacb57d01de",
   "metadata": {},
   "outputs": [],
   "source": []
  },
  {
   "cell_type": "code",
   "execution_count": 68,
   "id": "53f520df-3a68-43bd-ae6a-f5b0626aba96",
   "metadata": {},
   "outputs": [
    {
     "data": {
      "text/plain": [
       "(32624306, 2, 196941.8946434303)"
      ]
     },
     "execution_count": 68,
     "metadata": {},
     "output_type": "execute_result"
    }
   ],
   "source": [
    "np_tokens_ctr = np.array(tokens_ctr)\n",
    "np_tokens_ctr.max(), np_tokens_ctr.min(), np_tokens_ctr.mean()"
   ]
  },
  {
   "cell_type": "code",
   "execution_count": 91,
   "id": "c7f2b80c-1998-4062-b493-83b283408136",
   "metadata": {},
   "outputs": [
    {
     "name": "stdout",
     "output_type": "stream",
     "text": [
      "Books over 0 tokens: 52963 books, total tokens 10.43B, tokens mean 196942, tokens std 668116, tokens min 2, tokens max 32624306\n",
      "Books over 1000 tokens: 51180 books, total tokens 10.43B, tokens mean 203796, tokens std 678627, tokens min 1004, tokens max 32624306\n",
      "Books over 5000 tokens: 49728 books, total tokens 10.43B, tokens mean 209668, tokens std 687580, tokens min 5001, tokens max 32624306\n",
      "Books over 10000.0 tokens: 48773 books, total tokens 10.42B, tokens mean 213630, tokens std 693690, tokens min 10009, tokens max 32624306\n",
      "Books over 100000.0 tokens: 22022 books, total tokens 8.95B, tokens mean 406446, tokens std 998622, tokens min 100002, tokens max 32624306\n",
      "Books over 1000000.0 tokens: 1579 books, total tokens 4.18B, tokens mean 2645954, tokens std 2850691, tokens min 1000155, tokens max 32624306\n",
      "Books over 10000000.0 tokens: 41 books, total tokens 0.67B, tokens mean 16409729, tokens std 5818338, tokens min 10080096, tokens max 32624306\n"
     ]
    }
   ],
   "source": [
    "for thres in [0, 1000, 5000, 1e4, 1e5, 1e6, 1e7]:\n",
    "    subset = np_tokens_ctr[np_tokens_ctr > thres]\n",
    "    print(f\"Books over {thres} tokens: {len(subset)} books, total tokens {subset.sum()/1e9:.2f}B, tokens mean {subset.mean():.0f}, tokens std {subset.std():.0f}, tokens min {subset.min()}, tokens max {subset.max()}\")"
   ]
  },
  {
   "cell_type": "code",
   "execution_count": 92,
   "id": "56a9c6bc-a6b3-4fcf-b5f4-663bc1427efb",
   "metadata": {},
   "outputs": [
    {
     "data": {
      "image/png": "[encoded data removed]",
      "text/plain": [
       "<Figure size 640x480 with 1 Axes>"
      ]
     },
     "metadata": {},
     "output_type": "display_data"
    }
   ],
   "source": [
    "plt.hist(tokens_ctr, bins=1000, edgecolor='black')\n",
    "plt.xscale('log')\n",
    "plt.xlabel('number of tokens')\n",
    "plt.ylabel('number of books')\n",
    "plt.grid()\n",
    "plt.show()"
   ]
  },
  {
   "cell_type": "code",
   "execution_count": null,
   "id": "1a5d82e4-675b-4a77-9395-3d032215789e",
   "metadata": {},
   "outputs": [],
   "source": []
  },
  {
   "cell_type": "code",
   "execution_count": null,
   "id": "a78e944b-bf60-484f-a34f-085a6f4babc7",
   "metadata": {},
   "outputs": [],
   "source": []
  },
  {
   "cell_type": "code",
   "execution_count": 106,
   "id": "ff872ff5-4675-41ef-a1b8-7af04be5a56e",
   "metadata": {},
   "outputs": [
    {
     "name": "stderr",
     "output_type": "stream",
     "text": [
      " 31%|█████████████████████████████████▌                                                                            | 16653/54562 [1:50:15<1:36:00,  6.58it/s]Token indices sequence length is longer than the specified maximum sequence length for this model (66347 > 32768). Running this sequence through the model will result in indexing errors\n",
      "100%|████████████████████████████████████████████████████████████████████████████████████████████████████████████████| 54562/54562 [5:58:14<00:00,  2.54it/s]\n"
     ]
    }
   ],
   "source": [
    "folder = \"/cognitive_comp/common_data/big_corpus/book_zlib/chinese_all_txt/\"\n",
    "files = os.listdir(folder)\n",
    "tokenizer = AutoTokenizer.from_pretrained(\"Qwen/Qwen-72B\", trust_remote_code=True)\n",
    "\n",
    "tokens_ctr = []\n",
    "empty_books = []\n",
    "save_file = open(\"books_tokens_qwen.txt\", 'a')\n",
    "\n",
    "for idx, file in enumerate(tqdm.tqdm(files)):\n",
    "    try:\n",
    "        ctr = count_tokens(os.path.join(folder, file), tokenizer)\n",
    "        if ctr:\n",
    "            tokens_ctr.append(ctr)\n",
    "        else:\n",
    "            empty_books.append(file)\n",
    "        save_file.write(f\"{idx} {os.path.join(folder, file)} {ctr}\\n\")\n",
    "    except:\n",
    "        save_file.close()\n",
    "        print(file)\n",
    "        save_file = open(\"books_tokens_qwen.txt\", 'a')\n",
    "\n",
    "save_file.close()"
   ]
  },
  {
   "cell_type": "code",
   "execution_count": 108,
   "id": "ddc54642-b4e6-4c4b-9842-9d1885fe589a",
   "metadata": {},
   "outputs": [
    {
     "data": {
      "text/plain": [
       "(52963, 1599, 54562)"
      ]
     },
     "execution_count": 108,
     "metadata": {},
     "output_type": "execute_result"
    }
   ],
   "source": [
    "len(tokens_ctr), len(empty_books), len(files)"
   ]
  },
  {
   "cell_type": "code",
   "execution_count": 111,
   "id": "12cf0941-2780-42f1-9f7d-99ad6701caee",
   "metadata": {},
   "outputs": [
    {
     "data": {
      "text/plain": [
       "(29372481, 2, 190227.27949700734)"
      ]
     },
     "execution_count": 111,
     "metadata": {},
     "output_type": "execute_result"
    }
   ],
   "source": [
    "np_tokens_ctr = np.array(tokens_ctr)\n",
    "np_tokens_ctr.max(), np_tokens_ctr.min(), np_tokens_ctr.mean()"
   ]
  },
  {
   "cell_type": "code",
   "execution_count": 112,
   "id": "8143ab89-10f3-436b-bc00-9b63a41c9d71",
   "metadata": {},
   "outputs": [
    {
     "name": "stdout",
     "output_type": "stream",
     "text": [
      "Books over 0 tokens: 52963 books, total tokens 10.08B, tokens mean 190227, tokens std 629614, tokens min 2, tokens max 29372481\n",
      "Books over 1000 tokens: 51100 books, total tokens 10.07B, tokens mean 197155, tokens std 639923, tokens min 1002, tokens max 29372481\n",
      "Books over 5000 tokens: 49693 books, total tokens 10.07B, tokens mean 202661, tokens std 648070, tokens min 5016, tokens max 29372481\n",
      "Books over 10000.0 tokens: 48724 books, total tokens 10.06B, tokens mean 206546, tokens std 653891, tokens min 10002, tokens max 29372481\n",
      "Books over 100000.0 tokens: 21498 books, total tokens 8.58B, tokens mean 398894, tokens std 949798, tokens min 100007, tokens max 29372481\n",
      "Books over 1000000.0 tokens: 1520 books, total tokens 3.93B, tokens mean 2587197, tokens std 2687615, tokens min 1001561, tokens max 29372481\n",
      "Books over 10000000.0 tokens: 37 books, total tokens 0.59B, tokens mean 15950118, tokens std 5133263, tokens min 10427488, tokens max 29372481\n"
     ]
    }
   ],
   "source": [
    "for thres in [0, 1000, 5000, 1e4, 1e5, 1e6, 1e7]:\n",
    "    subset = np_tokens_ctr[np_tokens_ctr > thres]\n",
    "    print(f\"Books over {thres} tokens: {len(subset)} books, total tokens {subset.sum()/1e9:.2f}B, tokens mean {subset.mean():.0f}, tokens std {subset.std():.0f}, tokens min {subset.min()}, tokens max {subset.max()}\")"
   ]
  },
  {
   "cell_type": "code",
   "execution_count": 113,
   "id": "a6f38bdd-6cea-4edd-a739-4a237e05e5bd",
   "metadata": {},
   "outputs": [
    {
     "data": {
      "image/png": "[encoded data removed]",
      "text/plain": [
       "<Figure size 640x480 with 1 Axes>"
      ]
     },
     "metadata": {},
     "output_type": "display_data"
    }
   ],
   "source": [
    "plt.hist(tokens_ctr, bins=1000, edgecolor='black')\n",
    "plt.xscale('log')\n",
    "plt.xlabel('number of tokens')\n",
    "plt.ylabel('number of books')\n",
    "plt.grid()\n",
    "plt.show()"
   ]
  },
  {
   "cell_type": "code",
   "execution_count": 117,
   "id": "d887cd62-88e8-4218-837c-ca930e5a912b",
   "metadata": {},
   "outputs": [],
   "source": [
    "qwen_res = open('./books_tokens_qwen.txt', 'r')\n",
    "qwen_res = qwen_res.readlines()\n",
    "qwen_res = [int(each.strip().split()[-1]) for each in qwen_res]\n",
    "\n",
    "yi_res = open('./books_tokens_yi_new.txt', 'r')\n",
    "yi_res = yi_res.readlines()\n",
    "yi_res = [int(each.strip().split()[-1]) for each in yi_res]"
   ]
  },
  {
   "cell_type": "code",
   "execution_count": 123,
   "id": "47c2009d-c0f1-4ab6-920f-d0ad96ae6dfc",
   "metadata": {},
   "outputs": [
    {
     "data": {
      "image/png": "[encoded data removed]",
      "text/plain": [
       "<Figure size 640x480 with 1 Axes>"
      ]
     },
     "metadata": {},
     "output_type": "display_data"
    }
   ],
   "source": [
    "plt.hist([qwen_res, yi_res], alpha=0.8, bins=1000, edgecolor='black', label=['Qwen', 'Yi'])\n",
    "\n",
    "plt.xscale('log')\n",
    "plt.xlabel('number of tokens')\n",
    "plt.ylabel('number of books')\n",
    "plt.legend()\n",
    "plt.grid()\n",
    "plt.show()"
   ]
  },
  {
   "cell_type": "code",
   "execution_count": null,
   "id": "44b5e7c3-d7ee-4f13-98c7-3bd57b322198",
   "metadata": {},
   "outputs": [],
   "source": []
  },
  {
   "cell_type": "code",
   "execution_count": null,
   "id": "9e2fb2ec-aa22-4dd5-81b6-b17f84e92a5a",
   "metadata": {},
   "outputs": [],
   "source": []
  },
  {
   "cell_type": "code",
   "execution_count": null,
   "id": "399220e9-1e42-4446-a84e-a4ef24a3bb08",
   "metadata": {},
   "outputs": [],
   "source": []
  },
  {
   "cell_type": "code",
   "execution_count": null,
   "id": "661632e8-d9c8-43d8-aec5-0a198b11ae6f",
   "metadata": {},
   "outputs": [],
   "source": []
  }
 ],
 "metadata": {
  "kernelspec": {
   "display_name": "Python 3 (ipykernel)",
   "language": "python",
   "name": "python3"
  },
  "language_info": {
   "codemirror_mode": {
    "name": "ipython",
    "version": 3
   },
   "file_extension": ".py",
   "mimetype": "text/x-python",
   "name": "python",
   "nbconvert_exporter": "python",
   "pygments_lexer": "ipython3",
   "version": "3.10.13"
  }
 },
 "nbformat": 4,
 "nbformat_minor": 5
}
