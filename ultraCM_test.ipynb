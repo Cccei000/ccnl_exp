{
 "cells": [
  {
   "cell_type": "code",
   "execution_count": 1,
   "id": "c2758481-3fcd-42a2-92ae-afe57752998a",
   "metadata": {},
   "outputs": [],
   "source": [
    "import torch"
   ]
  },
  {
   "cell_type": "code",
   "execution_count": 3,
   "id": "ec966080-d814-4b76-a4e6-0cb814888ff3",
   "metadata": {},
   "outputs": [],
   "source": [
    "from transformers import AutoTokenizer, AutoModelForCausalLM"
   ]
  },
  {
   "cell_type": "code",
   "execution_count": 4,
   "id": "49feb370-966a-4efa-b9e8-f2227b0506fc",
   "metadata": {},
   "outputs": [],
   "source": [
    "path = '/cognitive_comp/lincong/models/UltraCM-13b'"
   ]
  },
  {
   "cell_type": "code",
   "execution_count": 40,
   "id": "f9fe86d5-21af-49de-ad00-1252166a02ee",
   "metadata": {},
   "outputs": [],
   "source": [
    "tokenizer = AutoTokenizer.from_pretrained(path, use_fast=True)"
   ]
  },
  {
   "cell_type": "code",
   "execution_count": 6,
   "id": "76a7fe97-fb53-44dc-915a-ad5c4367ebd9",
   "metadata": {},
   "outputs": [
    {
     "name": "stderr",
     "output_type": "stream",
     "text": [
      "Loading checkpoint shards: 100%|████████████████████████████████████████████████████████████████████████████████████████████████████████████████████████████████████████████████████████████████████████████████████████████████████████████████████████████████████████████████████████| 3/3 [00:36<00:00, 12.05s/it]\n",
      "Some weights of LlamaForCausalLM were not initialized from the model checkpoint at /cognitive_comp/lincong/models/UltraCM-13b and are newly initialized: ['model.layers.25.self_attn.rotary_emb.inv_freq', 'model.layers.20.self_attn.rotary_emb.inv_freq', 'model.layers.27.self_attn.rotary_emb.inv_freq', 'model.layers.39.self_attn.rotary_emb.inv_freq', 'model.layers.28.self_attn.rotary_emb.inv_freq', 'model.layers.33.self_attn.rotary_emb.inv_freq', 'model.layers.24.self_attn.rotary_emb.inv_freq', 'model.layers.0.self_attn.rotary_emb.inv_freq', 'model.layers.36.self_attn.rotary_emb.inv_freq', 'model.layers.17.self_attn.rotary_emb.inv_freq', 'model.layers.9.self_attn.rotary_emb.inv_freq', 'model.layers.31.self_attn.rotary_emb.inv_freq', 'model.layers.4.self_attn.rotary_emb.inv_freq', 'model.layers.14.self_attn.rotary_emb.inv_freq', 'model.layers.21.self_attn.rotary_emb.inv_freq', 'model.layers.6.self_attn.rotary_emb.inv_freq', 'model.layers.10.self_attn.rotary_emb.inv_freq', 'model.layers.18.self_attn.rotary_emb.inv_freq', 'model.layers.8.self_attn.rotary_emb.inv_freq', 'model.layers.38.self_attn.rotary_emb.inv_freq', 'model.layers.22.self_attn.rotary_emb.inv_freq', 'model.layers.7.self_attn.rotary_emb.inv_freq', 'model.layers.12.self_attn.rotary_emb.inv_freq', 'model.layers.19.self_attn.rotary_emb.inv_freq', 'model.layers.26.self_attn.rotary_emb.inv_freq', 'model.layers.3.self_attn.rotary_emb.inv_freq', 'model.layers.2.self_attn.rotary_emb.inv_freq', 'model.layers.37.self_attn.rotary_emb.inv_freq', 'model.layers.34.self_attn.rotary_emb.inv_freq', 'model.layers.35.self_attn.rotary_emb.inv_freq', 'model.layers.13.self_attn.rotary_emb.inv_freq', 'model.layers.23.self_attn.rotary_emb.inv_freq', 'model.layers.16.self_attn.rotary_emb.inv_freq', 'model.layers.32.self_attn.rotary_emb.inv_freq', 'model.layers.15.self_attn.rotary_emb.inv_freq', 'model.layers.30.self_attn.rotary_emb.inv_freq', 'model.layers.5.self_attn.rotary_emb.inv_freq', 'model.layers.29.self_attn.rotary_emb.inv_freq', 'model.layers.11.self_attn.rotary_emb.inv_freq', 'model.layers.1.self_attn.rotary_emb.inv_freq']\n",
      "You should probably TRAIN this model on a down-stream task to be able to use it for predictions and inference.\n"
     ]
    }
   ],
   "source": [
    "model = AutoModelForCausalLM.from_pretrained(path)"
   ]
  },
  {
   "cell_type": "code",
   "execution_count": 20,
   "id": "1fc628ad-bf03-4d61-b1f2-10066f0643a6",
   "metadata": {},
   "outputs": [],
   "source": [
    "model = model.cuda()"
   ]
  },
  {
   "cell_type": "code",
   "execution_count": 12,
   "id": "03e0b4c8-e0dc-438b-88a4-6ae12a7447fb",
   "metadata": {},
   "outputs": [],
   "source": [
    "tokenizer.pad_token_id = 0"
   ]
  },
  {
   "cell_type": "code",
   "execution_count": null,
   "id": "beb57e07-5730-4830-8fd2-731894bdcb0a",
   "metadata": {},
   "outputs": [],
   "source": []
  },
  {
   "cell_type": "code",
   "execution_count": 13,
   "id": "12441108-763f-45e4-a7c0-a4c27d60c863",
   "metadata": {},
   "outputs": [],
   "source": [
    "system_prompt = \"User: A one-turn chat between a curious user and an artificial intelligence assistant. The assistant gives helpful, very detailed, and polite answers to the user's questions.</s>\"\n",
    "\n",
    "ultracm_instruction_template = \"\"\"Given my answer to an instruction, your role is to provide specific and constructive feedback for me. You should find the best way for me to learn from your feedback and improve my performance. \n",
    "\n",
    "You should consider multiple aspects of my answer, including helpfulness, truthfulness, honesty, and to what extent the answer follows instructions.\n",
    "---\n",
    "\n",
    "### Instruction\n",
    "{instruction}\n",
    "\n",
    "### Answer\n",
    "{completion}\n",
    "---\n",
    "\n",
    "Please act as a teacher and provide specific and constructive feedback. Besides describing the weaknesses of the answer, you should also provide specific suggestions to guide me toward understanding how to improve. Please note, however, that your suggestions should help me better complete the instructions, but you should not introduce new requirements that are not mentioned in the instructions. Your feedback should focus on enhancing my ability to think critically and respond accurately. However, never explicitly provide the reference answer, nor do polite phrases be required. Only respond with concise feedback in chat style. Finally, score the overall quality of the answer from 1 to 10, where 1 is the worst and 10 is the best.\n",
    "\n",
    "*Format*\n",
    "### Feedback\n",
    "Overall Score: [1-10]\n",
    "[Your feedback]\n",
    "\n",
    "---\n",
    "\n",
    "### Feedback\n",
    "Overall Score: \n",
    "\"\"\"\n",
    "\n",
    "\n",
    "def get_input_text(query, response):\n",
    "    conv = [system_prompt]\n",
    "    conv.append(\"User: \" + ultracm_instruction_template.format(\n",
    "                                    instruction=query,\n",
    "                                    completion=response,\n",
    "                                    ) + \"</s>\")\n",
    "    conv.append(\"Assistant: \")\n",
    "    prompt = \"\\n\".join(conv)\n",
    "    return prompt"
   ]
  },
  {
   "cell_type": "code",
   "execution_count": 41,
   "id": "531e5cfa-c208-4886-aeb1-fad604c1f669",
   "metadata": {},
   "outputs": [],
   "source": [
    "q = \"Where is it humid every single day?\"\n",
    "r = \"\"\"There are several places around the world where it is humid every single day. Here are some examples:\n",
    "\n",
    "1. Hawaii, USA: Known for its tropical climate, Hawaii is one of the most humid places on Earth, with an average relative humidity of 60-80% throughout the year.\n",
    "2. Maldives: This island nation in the Indian Ocean has a tropical monsoon climate, with temperatures and humidity levels remaining high throughout the year.\n",
    "3. Singapore: With an average relative humidity of 70-80%, Singapore is one of the most humid cities in the world. The city-state's tropical rainforest climate and proximity to the equator contribute to its high humidity levels.\n",
    "4. Brunei: Located on the island of Borneo, Brunei has a tropical rainforest climate with high temperatures and humidity levels year-round.\n",
    "5. Costa Rica: This Central American country has a tropical climate with high humidity levels, especially in the rainy season (May to November).\n",
    "6. Panama: Panama's tropical climate and location near the equator result in high humidity levels throughout the year.\n",
    "7. Darwin, Australia: Darwin experiences a tropical climate with high humidity levels, especially during the wet season (December to April).\n",
    "8. Cairns, Australia: Cairns is a coastal city in tropical North Queensland, Australia, with high humidity levels throughout the year.\n",
    "9. Puerto Rico: This Caribbean island has a tropical climate with high humidity levels, especially during the summer months.\n",
    "10. Florida Keys, USA: The Florida Keys have a subtropical climate with high humidity levels, especially during the summer months.\n",
    "\n",
    "Please note that these are just a few examples, and there may be other places around the world that experience high humidity levels as well.\"\"\""
   ]
  },
  {
   "cell_type": "code",
   "execution_count": 42,
   "id": "aeb7d91b-a024-4dff-8742-7d625b6a7c15",
   "metadata": {},
   "outputs": [],
   "source": [
    "prompt = get_input_text(q, r)"
   ]
  },
  {
   "cell_type": "code",
   "execution_count": 43,
   "id": "3b8a49fc-cf35-4d54-bc8c-faafa90afa41",
   "metadata": {},
   "outputs": [
    {
     "name": "stdout",
     "output_type": "stream",
     "text": [
      "User: A one-turn chat between a curious user and an artificial intelligence assistant. The assistant gives helpful, very detailed, and polite answers to the user's questions.</s>\n",
      "User: Given my answer to an instruction, your role is to provide specific and constructive feedback for me. You should find the best way for me to learn from your feedback and improve my performance. \n",
      "\n",
      "You should consider multiple aspects of my answer, including helpfulness, truthfulness, honesty, and to what extent the answer follows instructions.\n",
      "---\n",
      "\n",
      "### Instruction\n",
      "Where is it humid every single day?\n",
      "\n",
      "### Answer\n",
      "There are several places around the world where it is humid every single day. Here are some examples:\n",
      "\n",
      "1. Hawaii, USA: Known for its tropical climate, Hawaii is one of the most humid places on Earth, with an average relative humidity of 60-80% throughout the year.\n",
      "2. Maldives: This island nation in the Indian Ocean has a tropical monsoon climate, with temperatures and humidity levels remaining high throughout the year.\n",
      "3. Singapore: With an average relative humidity of 70-80%, Singapore is one of the most humid cities in the world. The city-state's tropical rainforest climate and proximity to the equator contribute to its high humidity levels.\n",
      "4. Brunei: Located on the island of Borneo, Brunei has a tropical rainforest climate with high temperatures and humidity levels year-round.\n",
      "5. Costa Rica: This Central American country has a tropical climate with high humidity levels, especially in the rainy season (May to November).\n",
      "6. Panama: Panama's tropical climate and location near the equator result in high humidity levels throughout the year.\n",
      "7. Darwin, Australia: Darwin experiences a tropical climate with high humidity levels, especially during the wet season (December to April).\n",
      "8. Cairns, Australia: Cairns is a coastal city in tropical North Queensland, Australia, with high humidity levels throughout the year.\n",
      "9. Puerto Rico: This Caribbean island has a tropical climate with high humidity levels, especially during the summer months.\n",
      "10. Florida Keys, USA: The Florida Keys have a subtropical climate with high humidity levels, especially during the summer months.\n",
      "\n",
      "Please note that these are just a few examples, and there may be other places around the world that experience high humidity levels as well.\n",
      "---\n",
      "\n",
      "Please act as a teacher and provide specific and constructive feedback. Besides describing the weaknesses of the answer, you should also provide specific suggestions to guide me toward understanding how to improve. Please note, however, that your suggestions should help me better complete the instructions, but you should not introduce new requirements that are not mentioned in the instructions. Your feedback should focus on enhancing my ability to think critically and respond accurately. However, never explicitly provide the reference answer, nor do polite phrases be required. Only respond with concise feedback in chat style. Finally, score the overall quality of the answer from 1 to 10, where 1 is the worst and 10 is the best.\n",
      "\n",
      "*Format*\n",
      "### Feedback\n",
      "Overall Score: [1-10]\n",
      "[Your feedback]\n",
      "\n",
      "---\n",
      "\n",
      "### Feedback\n",
      "Overall Score: \n",
      "</s>\n",
      "Assistant: \n"
     ]
    }
   ],
   "source": [
    "print(prompt)"
   ]
  },
  {
   "cell_type": "code",
   "execution_count": 44,
   "id": "8d8d3768-286f-431c-a91e-5ec8f6735164",
   "metadata": {},
   "outputs": [],
   "source": [
    "input_ids = tokenizer(prompt, return_tensors='pt').input_ids"
   ]
  },
  {
   "cell_type": "code",
   "execution_count": 37,
   "id": "f31a5262-dbd0-41b6-96f6-9d6703af8672",
   "metadata": {},
   "outputs": [],
   "source": [
    "gen_args = {'temperature': 1.0, 'top_p': 1.0, 'max_new_tokens': 1024, 'repetition_penalty': 1.2, 'do_sample': True, 'eos_token_id': tokenizer.eos_token_id, 'pad_token_id': tokenizer.pad_token_id}"
   ]
  },
  {
   "cell_type": "code",
   "execution_count": 38,
   "id": "91dfcc45-e8b8-4d43-b141-f811569de9b2",
   "metadata": {},
   "outputs": [],
   "source": [
    "output = model.generate(input_ids.cuda(), **gen_args)"
   ]
  },
  {
   "cell_type": "code",
   "execution_count": 39,
   "id": "14f090a7-7673-4559-99c1-867645336da3",
   "metadata": {},
   "outputs": [
    {
     "name": "stdout",
     "output_type": "stream",
     "text": [
      "<s> User: A one-turn chat between a curious user and an artificial intelligence assistant. The assistant gives helpful, very detailed, and polite answers to the user's questions.</s> \n",
      "User: Given my answer to an instruction, your role is to provide specific and constructive feedback for me. You should find the best way for me to learn from your feedback and improve my performance. \n",
      "\n",
      "You should consider multiple aspects of my answer, including helpfulness, truthfulness, honesty, and to what extent the answer follows instructions.\n",
      "---\n",
      "\n",
      "### Instruction\n",
      "Where is it humid every single day?\n",
      "\n",
      "### Answer\n",
      "There are several places around the world where it is humid every single day. Here are some examples:\n",
      "\n",
      "1. Hawaii, USA: Known for its tropical climate, Hawaii is one of the most humid places on Earth, with an average relative humidity of 60-80% throughout the year.\n",
      "2. Maldives: This island nation in the Indian Ocean has a tropical monsoon climate, with temperatures and humidity levels remaining high throughout the year.\n",
      "3. Singapore: With an average relative humidity of 70-80%, Singapore is one of the most humid cities in the world. The city-state's tropical rainforest climate and proximity to the equator contribute to its high humidity levels.\n",
      "4. Brunei: Located on the island of Borneo, Brunei has a tropical rainforest climate with high temperatures and humidity levels year-round.\n",
      "5. Costa Rica: This Central American country has a tropical climate with high humidity levels, especially in the rainy season (May to November).\n",
      "6. Panama: Panama's tropical climate and location near the equator result in high humidity levels throughout the year.\n",
      "7. Darwin, Australia: Darwin experiences a tropical climate with high humidity levels, especially during the wet season (December to April).\n",
      "8. Cairns, Australia: Cairns is a coastal city in tropical North Queensland, Australia, with high humidity levels throughout the year.\n",
      "9. Puerto Rico: This Caribbean island has a tropical climate with high humidity levels, especially during the summer months.\n",
      "10. Florida Keys, USA: The Florida Keys have a subtropical climate with high humidity levels, especially during the summer months.\n",
      "\n",
      "Please note that these are just a few examples, and there may be other places around the world that experience high humidity levels as well.\n",
      "---\n",
      "\n",
      "Please act as a teacher and provide specific and constructive feedback. Besides describing the weaknesses of the answer, you should also provide specific suggestions to guide me toward understanding how to improve. Please note, however, that your suggestions should help me better complete the instructions, but you should not introduce new requirements that are not mentioned in the instructions. Your feedback should focus on enhancing my ability to think critically and respond accurately. However, never explicitly provide the reference answer, nor do polite phrases be required. Only respond with concise feedback in chat style. Finally, score the overall quality of the answer from 1 to 10, where 1 is the worst and 10 is the best.\n",
      "\n",
      "*Format*\n",
      "### Feedback\n",
      "Overall Score: [1-10]\n",
      "[Your feedback]\n",
      "\n",
      "---\n",
      "\n",
      "### Feedback\n",
      "Overall Score: \n",
      "</s> \n",
      "Assistant: 9/10\n",
      "The answer provided was comprehensive and informative, providing various countries and regions across different continents experiencing high humidity daily. It was educational yet engaging which aligns with the instructions. One area for improvement could be the inclusion of more diverse climates rather than focusing mainly on tropical ones. This would offer a broader perspective about areas globally affected by such conditions. For instance, mentioning locations with sub-tropical or oceanic climates like Georgia (nation), South Carolina in the U.S., Dublin in Ireland or Glasgow in Scotland. Although they might not be completely rainy all days of the year, their climates still exhibit significant daily humidity due to maritime influences. Adding this diversity can enhance the depth and scope of the information offered to users, making it even more insightful and interesting. Remember, variety helps to keep things fresh and exciting for the user too! Overall though, good job sticking closely to the prompt while giving an accurate response that is beneficial for learning purposes in a safe environment for the public. Keep up the good work!</s>\n"
     ]
    }
   ],
   "source": [
    "print(tokenizer.batch_decode(output)[0])"
   ]
  },
  {
   "cell_type": "code",
   "execution_count": 29,
   "id": "c9f89a49-af1f-48e2-b044-f6c67c86379b",
   "metadata": {},
   "outputs": [
    {
     "data": {
      "text/plain": [
       "torch.Tensor"
      ]
     },
     "execution_count": 29,
     "metadata": {},
     "output_type": "execute_result"
    }
   ],
   "source": [
    "type(output)"
   ]
  },
  {
   "cell_type": "code",
   "execution_count": 45,
   "id": "13f6f87d-b01f-4824-a9ec-bcf709e01f10",
   "metadata": {},
   "outputs": [
    {
     "data": {
      "text/plain": [
       "9"
      ]
     },
     "execution_count": 45,
     "metadata": {},
     "output_type": "execute_result"
    }
   ],
   "source": [
    "int(' 9')"
   ]
  },
  {
   "cell_type": "code",
   "execution_count": 46,
   "id": "d5762a1b-009e-4932-8534-692b77ef9768",
   "metadata": {},
   "outputs": [
    {
     "data": {
      "text/plain": [
       "tensor([-0.0479, -0.4691,  2.0417], device='cuda:0')"
      ]
     },
     "execution_count": 46,
     "metadata": {},
     "output_type": "execute_result"
    }
   ],
   "source": [
    "torch.randn(3).cuda()"
   ]
  },
  {
   "cell_type": "code",
   "execution_count": 47,
   "id": "8bcacaab-24f6-4279-9863-746082045e44",
   "metadata": {},
   "outputs": [
    {
     "data": {
      "text/plain": [
       "\u001b[0;31mDocstring:\u001b[0m\n",
       "flip(input, dims) -> Tensor\n",
       "\n",
       "Reverse the order of an n-D tensor along given axis in dims.\n",
       "\n",
       ".. note::\n",
       "    `torch.flip` makes a copy of :attr:`input`'s data. This is different from NumPy's `np.flip`,\n",
       "    which returns a view in constant time. Since copying a tensor's data is more work than viewing that data,\n",
       "    `torch.flip` is expected to be slower than `np.flip`.\n",
       "\n",
       "Args:\n",
       "    input (Tensor): the input tensor.\n",
       "    dims (a list or tuple): axis to flip on\n",
       "\n",
       "Example::\n",
       "\n",
       "    >>> x = torch.arange(8).view(2, 2, 2)\n",
       "    >>> x\n",
       "    tensor([[[ 0,  1],\n",
       "             [ 2,  3]],\n",
       "\n",
       "            [[ 4,  5],\n",
       "             [ 6,  7]]])\n",
       "    >>> torch.flip(x, [0, 1])\n",
       "    tensor([[[ 6,  7],\n",
       "             [ 4,  5]],\n",
       "\n",
       "            [[ 2,  3],\n",
       "             [ 0,  1]]])\n",
       "\u001b[0;31mType:\u001b[0m      builtin_function_or_method"
      ]
     },
     "metadata": {},
     "output_type": "display_data"
    }
   ],
   "source": [
    "torch.flip?"
   ]
  },
  {
   "cell_type": "code",
   "execution_count": 48,
   "id": "f0d8537c-8cbd-4aec-8082-f4b8d4a229ec",
   "metadata": {},
   "outputs": [
    {
     "data": {
      "text/plain": [
       "\u001b[0;31mDocstring:\u001b[0m\n",
       "flip(dims) -> Tensor\n",
       "\n",
       "See :func:`torch.flip`\n",
       "\u001b[0;31mType:\u001b[0m      method_descriptor"
      ]
     },
     "metadata": {},
     "output_type": "display_data"
    }
   ],
   "source": [
    "torch.Tensor.flip?"
   ]
  },
  {
   "cell_type": "code",
   "execution_count": 50,
   "id": "6ad8fee2-3c76-4b8e-80ad-2a94cadc2a58",
   "metadata": {},
   "outputs": [],
   "source": [
    "a = torch.randn(3,3).flip(dims=[-1])"
   ]
  },
  {
   "cell_type": "code",
   "execution_count": 51,
   "id": "3aebb44b-233f-447c-80f4-a4e7d387cf5c",
   "metadata": {},
   "outputs": [
    {
     "data": {
      "text/plain": [
       "tensor([[-0.1242, -1.2809,  0.8646],\n",
       "        [ 0.1631,  1.3011,  0.7660],\n",
       "        [ 0.4409,  1.3260,  0.5626]])"
      ]
     },
     "execution_count": 51,
     "metadata": {},
     "output_type": "execute_result"
    }
   ],
   "source": [
    "a"
   ]
  },
  {
   "cell_type": "code",
   "execution_count": 52,
   "id": "183560cf-1c4f-4f64-9a2f-28a47a650ca6",
   "metadata": {},
   "outputs": [
    {
     "data": {
      "text/plain": [
       "tensor([[ 0.8646, -1.2809, -0.1242],\n",
       "        [ 0.7660,  1.3011,  0.1631],\n",
       "        [ 0.5626,  1.3260,  0.4409]])"
      ]
     },
     "execution_count": 52,
     "metadata": {},
     "output_type": "execute_result"
    }
   ],
   "source": [
    "a.flip(dims=[-1])"
   ]
  },
  {
   "cell_type": "code",
   "execution_count": null,
   "id": "4fcd3e95-482a-42db-bf9d-e60ff7b7ee9a",
   "metadata": {},
   "outputs": [],
   "source": []
  }
 ],
 "metadata": {
  "kernelspec": {
   "display_name": "Python 3 (ipykernel)",
   "language": "python",
   "name": "python3"
  },
  "language_info": {
   "codemirror_mode": {
    "name": "ipython",
    "version": 3
   },
   "file_extension": ".py",
   "mimetype": "text/x-python",
   "name": "python",
   "nbconvert_exporter": "python",
   "pygments_lexer": "ipython3",
   "version": "3.11.5"
  }
 },
 "nbformat": 4,
 "nbformat_minor": 5
}
