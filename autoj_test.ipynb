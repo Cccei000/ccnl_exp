{
 "cells": [
  {
   "cell_type": "code",
   "execution_count": 1,
   "id": "c9f9bbc5-f82f-4ff0-9fbb-acdaead2bee1",
   "metadata": {},
   "outputs": [
    {
     "name": "stderr",
     "output_type": "stream",
     "text": [
      "/home/lincong/miniconda3/envs/gpt/lib/python3.11/site-packages/tqdm/auto.py:21: TqdmWarning: IProgress not found. Please update jupyter and ipywidgets. See https://ipywidgets.readthedocs.io/en/stable/user_install.html\n",
      "  from .autonotebook import tqdm as notebook_tqdm\n"
     ]
    }
   ],
   "source": [
    "from transformers import AutoTokenizer, AutoModelForCausalLM"
   ]
  },
  {
   "cell_type": "code",
   "execution_count": 2,
   "id": "10d68023-c9b5-40f0-96ac-1ce6bbcfc915",
   "metadata": {},
   "outputs": [],
   "source": [
    "import torch"
   ]
  },
  {
   "cell_type": "code",
   "execution_count": 3,
   "id": "707b6b15-62ab-471a-b5f0-3993bacf2900",
   "metadata": {},
   "outputs": [],
   "source": [
    "path = '/cognitive_comp/lincong/models/autoj-13b'"
   ]
  },
  {
   "cell_type": "code",
   "execution_count": 4,
   "id": "399da4ce-c31f-4a06-8b1f-8d778ad9c830",
   "metadata": {},
   "outputs": [],
   "source": [
    "tokenizer = AutoTokenizer.from_pretrained(path, padding_side='right')"
   ]
  },
  {
   "cell_type": "code",
   "execution_count": 5,
   "id": "ba1cc3c7-5116-49a7-997a-8d97f5e2a495",
   "metadata": {},
   "outputs": [
    {
     "data": {
      "text/plain": [
       "32000"
      ]
     },
     "execution_count": 5,
     "metadata": {},
     "output_type": "execute_result"
    }
   ],
   "source": [
    "tokenizer.pad_token_id"
   ]
  },
  {
   "cell_type": "code",
   "execution_count": 6,
   "id": "ed4f63a3-6aa9-4f36-847c-fbce227a96db",
   "metadata": {},
   "outputs": [
    {
     "name": "stderr",
     "output_type": "stream",
     "text": [
      "Loading checkpoint shards: 100%|██████████████████████████████████████████████████████████████████████████████████████████████████████████████████████████████████████████████████| 3/3 [00:38<00:00, 12.69s/it]\n",
      "Some weights of LlamaForCausalLM were not initialized from the model checkpoint at /cognitive_comp/lincong/models/autoj-13b and are newly initialized: ['model.layers.27.self_attn.rotary_emb.inv_freq', 'model.layers.8.self_attn.rotary_emb.inv_freq', 'model.layers.28.self_attn.rotary_emb.inv_freq', 'model.layers.39.self_attn.rotary_emb.inv_freq', 'model.layers.16.self_attn.rotary_emb.inv_freq', 'model.layers.32.self_attn.rotary_emb.inv_freq', 'model.layers.34.self_attn.rotary_emb.inv_freq', 'model.layers.17.self_attn.rotary_emb.inv_freq', 'model.layers.21.self_attn.rotary_emb.inv_freq', 'model.layers.0.self_attn.rotary_emb.inv_freq', 'model.layers.37.self_attn.rotary_emb.inv_freq', 'model.layers.3.self_attn.rotary_emb.inv_freq', 'model.layers.13.self_attn.rotary_emb.inv_freq', 'model.layers.14.self_attn.rotary_emb.inv_freq', 'model.layers.24.self_attn.rotary_emb.inv_freq', 'model.layers.4.self_attn.rotary_emb.inv_freq', 'model.layers.10.self_attn.rotary_emb.inv_freq', 'model.layers.9.self_attn.rotary_emb.inv_freq', 'model.layers.35.self_attn.rotary_emb.inv_freq', 'model.layers.33.self_attn.rotary_emb.inv_freq', 'model.layers.30.self_attn.rotary_emb.inv_freq', 'model.layers.12.self_attn.rotary_emb.inv_freq', 'model.layers.31.self_attn.rotary_emb.inv_freq', 'model.layers.11.self_attn.rotary_emb.inv_freq', 'model.layers.5.self_attn.rotary_emb.inv_freq', 'model.layers.19.self_attn.rotary_emb.inv_freq', 'model.layers.20.self_attn.rotary_emb.inv_freq', 'model.layers.26.self_attn.rotary_emb.inv_freq', 'model.layers.22.self_attn.rotary_emb.inv_freq', 'model.layers.2.self_attn.rotary_emb.inv_freq', 'model.layers.23.self_attn.rotary_emb.inv_freq', 'model.layers.29.self_attn.rotary_emb.inv_freq', 'model.layers.15.self_attn.rotary_emb.inv_freq', 'model.layers.36.self_attn.rotary_emb.inv_freq', 'model.layers.7.self_attn.rotary_emb.inv_freq', 'model.layers.6.self_attn.rotary_emb.inv_freq', 'model.layers.38.self_attn.rotary_emb.inv_freq', 'model.layers.1.self_attn.rotary_emb.inv_freq', 'model.layers.18.self_attn.rotary_emb.inv_freq', 'model.layers.25.self_attn.rotary_emb.inv_freq']\n",
      "You should probably TRAIN this model on a down-stream task to be able to use it for predictions and inference.\n"
     ]
    }
   ],
   "source": [
    "model = AutoModelForCausalLM.from_pretrained(path).cuda()"
   ]
  },
  {
   "cell_type": "code",
   "execution_count": 7,
   "id": "1f213fa0-4a0d-42a4-915a-1f843bf5c2eb",
   "metadata": {},
   "outputs": [],
   "source": [
    "reflector_template = {}\n",
    "reflector_template['auto-j_13B'] = \"\"\"Write critiques for a submitted response on a given user's query, and grade the response:\n",
    "  \n",
    "[BEGIN DATA]\n",
    "***\n",
    "[Query]: {__query__}\n",
    "***\n",
    "[Response]: {__response__}\n",
    "***\n",
    "[END DATA]\n",
    "\n",
    "Write critiques for this response. After that, you should give a final rating for the response on a scale of 1 to 10 by strictly following this format: \"[[rating]]\", for example: \"Rating: [[5]]\".\"\"\""
   ]
  },
  {
   "cell_type": "code",
   "execution_count": 24,
   "id": "d516e8d5-e5c0-4551-803e-e47b71afc063",
   "metadata": {},
   "outputs": [],
   "source": [
    "    reflector_gen_args = {\n",
    "        \"do_sample\": True,\n",
    "        \"top_p\": 0.85,\n",
    "        \"top_k\": 0,\n",
    "        # \"bad_words_ids\": [],\n",
    "        \"max_new_tokens\": 2048,\n",
    "        \"repetition_penalty\": 1.0,\n",
    "        \"temperature\": 0.85,\n",
    "        \"use_cache\": True,\n",
    "        \"pad_token_id\": tokenizer.pad_token_id,\n",
    "        \"eos_token_id\": tokenizer.eos_token_id,\n",
    "    }"
   ]
  },
  {
   "cell_type": "code",
   "execution_count": 31,
   "id": "1dddc383-0b0c-4736-9cd2-c281f401686a",
   "metadata": {},
   "outputs": [],
   "source": [
    "q = 'Do we spend only a small part of the US Federal budget on foreign aid to poor countries?'\n",
    "r = \"\"\"No, the amount of the US Federal budget spent on foreign aid to poor countries is not a small part. While it is true that foreign aid is a relatively small percentage of the overall federal budget, it is still a significant amount of money.\n",
    "\n",
    "According to the Office of Management and Budget (OMB), in fiscal year 2020, the US government spent approximately $40.5 billion on foreign aid, which is about 1.4% of the total federal budget. This includes funding for the State Department, the U.S. Agency for International Development (USAID), and other programs that support international development and humanitarian assistance.\n",
    "\n",
    "To put this amount into perspective, $40.5 billion is more than the annual GDP of many countries around the world. It is also more than the total amount of money raised by all Kickstarter campaigns in 2020.\n",
    "\n",
    "While $40.5 billion may seem like a lot of money, it is important to remember that it is a small fraction of the total federal budget. In fiscal year 2020, the federal government spent over $4 trillion, so foreign aid accounts for only about 1% of the total federal spending.\n",
    "\n",
    "However, it is worth noting that foreign aid is a critical investment in the global community and can have a significant impact on poverty reduction, economic development, and humanitarian assistance. The money spent on foreign aid can help improve healthcare, education, and infrastructure in developing countries, and can also support humanitarian responses to natural disasters and conflicts.\n",
    "\n",
    "In conclusion, while foreign aid is not a large percentage of the overall federal budget, it is still a significant amount of money that can have a meaningful impact on the global community. It is important to continue investing in foreign aid to support the world's most vulnerable populations and promote economic development and stability.\"\"\""
   ]
  },
  {
   "cell_type": "code",
   "execution_count": 32,
   "id": "71a6fbdd-58df-454c-a87d-e9b33b5345d1",
   "metadata": {},
   "outputs": [],
   "source": [
    "input_ids = tokenizer(reflector_template['auto-j_13B'].format(__query__=q, __response__=r), return_tensors='pt').input_ids"
   ]
  },
  {
   "cell_type": "code",
   "execution_count": 33,
   "id": "f8a3a099-d6ae-438c-9105-17078f9d70b8",
   "metadata": {},
   "outputs": [
    {
     "data": {
      "text/plain": [
       "['<s> Write critiques for a submitted response on a given user\\'s query, and grade the response:\\n  \\n[BEGIN DATA]\\n***\\n[Query]: Do we spend only a small part of the US Federal budget on foreign aid to poor countries?\\n***\\n[Response]: No, the amount of the US Federal budget spent on foreign aid to poor countries is not a small part. While it is true that foreign aid is a relatively small percentage of the overall federal budget, it is still a significant amount of money.\\n\\nAccording to the Office of Management and Budget (OMB), in fiscal year 2020, the US government spent approximately $40.5 billion on foreign aid, which is about 1.4% of the total federal budget. This includes funding for the State Department, the U.S. Agency for International Development (USAID), and other programs that support international development and humanitarian assistance.\\n\\nTo put this amount into perspective, $40.5 billion is more than the annual GDP of many countries around the world. It is also more than the total amount of money raised by all Kickstarter campaigns in 2020.\\n\\nWhile $40.5 billion may seem like a lot of money, it is important to remember that it is a small fraction of the total federal budget. In fiscal year 2020, the federal government spent over $4 trillion, so foreign aid accounts for only about 1% of the total federal spending.\\n\\nHowever, it is worth noting that foreign aid is a critical investment in the global community and can have a significant impact on poverty reduction, economic development, and humanitarian assistance. The money spent on foreign aid can help improve healthcare, education, and infrastructure in developing countries, and can also support humanitarian responses to natural disasters and conflicts.\\n\\nIn conclusion, while foreign aid is not a large percentage of the overall federal budget, it is still a significant amount of money that can have a meaningful impact on the global community. It is important to continue investing in foreign aid to support the world\\'s most vulnerable populations and promote economic development and stability.\\n***\\n[END DATA]\\n\\nWrite critiques for this response. After that, you should give a final rating for the response on a scale of 1 to 10 by strictly following this format: \"[[rating]]\", for example: \"Rating: [[5]]\".']"
      ]
     },
     "execution_count": 33,
     "metadata": {},
     "output_type": "execute_result"
    }
   ],
   "source": [
    "tokenizer.batch_decode(input_ids)"
   ]
  },
  {
   "cell_type": "code",
   "execution_count": 38,
   "id": "53f9a1d1-fb6f-4537-96c6-586ea02a2a51",
   "metadata": {},
   "outputs": [],
   "source": [
    "output_ids = model.generate(input_ids.cuda(), **reflector_gen_args)"
   ]
  },
  {
   "cell_type": "code",
   "execution_count": 39,
   "id": "cd1368d1-9258-4c59-9750-a8b308fe6d7b",
   "metadata": {},
   "outputs": [
    {
     "data": {
      "text/plain": [
       "['<s> Write critiques for a submitted response on a given user\\'s query, and grade the response:\\n  \\n[BEGIN DATA]\\n***\\n[Query]: Do we spend only a small part of the US Federal budget on foreign aid to poor countries?\\n***\\n[Response]: No, the amount of the US Federal budget spent on foreign aid to poor countries is not a small part. While it is true that foreign aid is a relatively small percentage of the overall federal budget, it is still a significant amount of money.\\n\\nAccording to the Office of Management and Budget (OMB), in fiscal year 2020, the US government spent approximately $40.5 billion on foreign aid, which is about 1.4% of the total federal budget. This includes funding for the State Department, the U.S. Agency for International Development (USAID), and other programs that support international development and humanitarian assistance.\\n\\nTo put this amount into perspective, $40.5 billion is more than the annual GDP of many countries around the world. It is also more than the total amount of money raised by all Kickstarter campaigns in 2020.\\n\\nWhile $40.5 billion may seem like a lot of money, it is important to remember that it is a small fraction of the total federal budget. In fiscal year 2020, the federal government spent over $4 trillion, so foreign aid accounts for only about 1% of the total federal spending.\\n\\nHowever, it is worth noting that foreign aid is a critical investment in the global community and can have a significant impact on poverty reduction, economic development, and humanitarian assistance. The money spent on foreign aid can help improve healthcare, education, and infrastructure in developing countries, and can also support humanitarian responses to natural disasters and conflicts.\\n\\nIn conclusion, while foreign aid is not a large percentage of the overall federal budget, it is still a significant amount of money that can have a meaningful impact on the global community. It is important to continue investing in foreign aid to support the world\\'s most vulnerable populations and promote economic development and stability.\\n***\\n[END DATA]\\n\\nWrite critiques for this response. After that, you should give a final rating for the response on a scale of 1 to 10 by strictly following this format: \"[[rating]]\", for example: \"Rating: [[5]]\". \\n\\n The response, while informative, could have been more effective in addressing the user\\'s query. The user asked if foreign aid is a small part of the US Federal budget, but the response does not directly answer this question. Instead, it provides information about the percentage of the total federal budget spent on foreign aid, which is not directly relevant to the user\\'s query. \\n\\nThe response could have been clearer in its structure and presentation of information. The use of headings, bullet points, or other formatting devices could have improved the readability of the response. For instance, the breakdown of the $40.5 billion figure into its various components, such as the amounts spent on different programs, could have been presented in a clearer manner.\\n\\nThe response could have been more concise. The user\\'s query was a simple question, but the response included a lot of additional information that was not directly relevant to the question. For example, the comparison of the amount of money spent on foreign aid to the GDP of other countries or the total amount of money raised by all Kickstarter campaigns in 2020 is not directly relevant to the user\\'s query.\\n\\nThe response could have cited official documents, links, references, statistics, research or other credible sources to support its claim. For instance, it could have cited the OMB\\'s official data on the percentage of the federal budget spent on foreign aid.\\n\\nThe response could have been more balanced by considering different perspectives. For instance, it could have mentioned that some people might argue that the amount of money spent on foreign aid is too high and could be better spent on domestic issues.\\n\\nThe response could have been more engaging by asking a rhetorical question or using a more conversational tone. For example, it could have started with a question like \"Is it surprising that the US spends a significant amount of its federal budget on foreign aid?\"\\n\\nRating: [[6]] </s>']"
      ]
     },
     "execution_count": 39,
     "metadata": {},
     "output_type": "execute_result"
    }
   ],
   "source": [
    "tokenizer.batch_decode(output_ids)"
   ]
  },
  {
   "cell_type": "code",
   "execution_count": null,
   "id": "49d55554-2f67-4010-9ab9-9ae6e7893b2f",
   "metadata": {},
   "outputs": [],
   "source": []
  }
 ],
 "metadata": {
  "kernelspec": {
   "display_name": "Python 3 (ipykernel)",
   "language": "python",
   "name": "python3"
  },
  "language_info": {
   "codemirror_mode": {
    "name": "ipython",
    "version": 3
   },
   "file_extension": ".py",
   "mimetype": "text/x-python",
   "name": "python",
   "nbconvert_exporter": "python",
   "pygments_lexer": "ipython3",
   "version": "3.11.5"
  }
 },
 "nbformat": 4,
 "nbformat_minor": 5
}
