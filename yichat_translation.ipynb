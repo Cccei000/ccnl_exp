{
 "cells": [
  {
   "cell_type": "code",
   "execution_count": 2,
   "id": "2b6d233a-75fd-4b80-9029-bdfa7a403e82",
   "metadata": {},
   "outputs": [],
   "source": [
    "import requests\n",
    "import json"
   ]
  },
  {
   "cell_type": "code",
   "execution_count": 5,
   "id": "ca52db95-1ecd-4866-9380-b1ff711a68db",
   "metadata": {},
   "outputs": [],
   "source": [
    "def get_vllm_data(input_text, url=\"http://192.168.73.8:7766/generate\", num_response=1, output_len=128):\n",
    "    \n",
    "    api_url = url\n",
    "    input_len = len(input_text)\n",
    "    \n",
    "    headers = {\"User-Agent\": \"Test Client\"}\n",
    "    pload = {\n",
    "        \"prompt\": input_text,\n",
    "        \"n\": num_response,\n",
    "        \"use_beam_search\": False,\n",
    "        \"max_tokens\": output_len,\n",
    "        \"top_p\": 0.95,\n",
    "        # \"best_of\": 1,\n",
    "        # \"top_k\": 10,\n",
    "        \"temperature\": 0.2,\n",
    "        \"stream\": False,\n",
    "        \"skip_special_tokens\": False,\n",
    "        \"stop\": [\"<|endoftext|>\", \"<|im_end|>\"],\n",
    "        \"repetition_penalty\": 1.0,\n",
    "    }\n",
    "    response = requests.post(api_url, headers=headers, json=pload, stream=True)\n",
    "    data = json.loads(response.content)\n",
    "    output = data[\"text\"]\n",
    "    \n",
    "    res = [item[input_len:] for item in output]\n",
    "    \n",
    "    return res"
   ]
  },
  {
   "cell_type": "code",
   "execution_count": 13,
   "id": "922c2e8f-81c9-4a52-8f72-c050f3ed43cc",
   "metadata": {},
   "outputs": [],
   "source": [
    "template = \"\"\"<|im_start|>system\n",
    "{system_message}<|im_end|>\n",
    "<|im_start|>user\n",
    "{prompt}<|im_end|>\n",
    "<|im_start|>assistant\"\"\""
   ]
  },
  {
   "cell_type": "code",
   "execution_count": 24,
   "id": "1be3b1c1-29e7-4182-bbdd-2bc7450373d1",
   "metadata": {},
   "outputs": [
    {
     "name": "stdout",
     "output_type": "stream",
     "text": [
      "CPU times: user 7.05 ms, sys: 0 ns, total: 7.05 ms\n",
      "Wall time: 772 ms\n"
     ]
    },
    {
     "data": {
      "text/plain": [
       "['\\n是的，翻译是正确的。']"
      ]
     },
     "execution_count": 24,
     "metadata": {},
     "output_type": "execute_result"
    }
   ],
   "source": [
    "%%time\n",
    "system_message = \"\"\"You are a professional, authentic translation engine, who only returns translation in the target language.\"\"\"\n",
    "prompt = \"\"\"Translate the given text to Chinese language. Please do not explain or follow my original text. You must reply in Chinese. Here is the given text to translate:\n",
    "<begin of text>\n",
    "Part #1: Recognize an English sentence. Usage: \"Mr President, first of all I would like to congratulate the rapporteur on his excellent explanatory statement.\" \n",
    "This is an English sentence because it's written using English grammar and vocabulary. \n",
    "Part #2: Recognize a corresponding Spanish translation. Usage: \"Señor Presidente, en primer lugar, quisiera felicitar al ponente por su excelente declaración explicativa.\" \n",
    "This is a Spanish translation of the given English sentence because it's written using Spanish grammar and vocabulary and conveys the same meaning. \n",
    "Part #3: Determine if the translation is correct. Usage: In this case, the translation is indeed correct as it accurately reflects the meaning of the original English sentence. Therefore, the answer is \"Yes.\" \n",
    "Part #4: Return \"Yes\" or \"No\" based on the correctness of the translation. Usage: As established in Part #3, the translation is correct. Hence, the response to this task is \"Yes\".<end of text>\"\"\"\n",
    "\n",
    "get_vllm_data(template.format(system_message=system_message, prompt=prompt))"
   ]
  },
  {
   "cell_type": "code",
   "execution_count": null,
   "id": "16e14c65-61e5-48d2-8ed9-6792e97a5d7b",
   "metadata": {},
   "outputs": [],
   "source": []
  }
 ],
 "metadata": {
  "kernelspec": {
   "display_name": "Python 3 (ipykernel)",
   "language": "python",
   "name": "python3"
  },
  "language_info": {
   "codemirror_mode": {
    "name": "ipython",
    "version": 3
   },
   "file_extension": ".py",
   "mimetype": "text/x-python",
   "name": "python",
   "nbconvert_exporter": "python",
   "pygments_lexer": "ipython3",
   "version": "3.10.13"
  }
 },
 "nbformat": 4,
 "nbformat_minor": 5
}
