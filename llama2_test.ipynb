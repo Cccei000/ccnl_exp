{
 "cells": [
  {
   "cell_type": "code",
   "execution_count": 1,
   "id": "aeaf6e4c-e7ba-4686-a1af-33d799c0987e",
   "metadata": {},
   "outputs": [
    {
     "name": "stderr",
     "output_type": "stream",
     "text": [
      "/home/lincong/miniconda3/envs/gpt/lib/python3.11/site-packages/tqdm/auto.py:21: TqdmWarning: IProgress not found. Please update jupyter and ipywidgets. See https://ipywidgets.readthedocs.io/en/stable/user_install.html\n",
      "  from .autonotebook import tqdm as notebook_tqdm\n"
     ]
    }
   ],
   "source": [
    "from transformers import AutoTokenizer, AutoModelForCausalLM"
   ]
  },
  {
   "cell_type": "code",
   "execution_count": 2,
   "id": "5bd7ac59-6637-4840-8ea1-7f92afb57354",
   "metadata": {},
   "outputs": [],
   "source": [
    "import gc\n",
    "import torch"
   ]
  },
  {
   "cell_type": "code",
   "execution_count": 3,
   "id": "baa05029-dfbe-4d7b-b6b3-990129defb83",
   "metadata": {},
   "outputs": [],
   "source": [
    "model_path = '/cognitive_comp/lincong/models/Llama-2-13B-Chat-fp16'\n",
    "tokenizer_path = '/cognitive_comp/lincong/models/Llama-2-13B-Chat-fp16'"
   ]
  },
  {
   "cell_type": "code",
   "execution_count": 4,
   "id": "3232d16a-f2c8-467b-b6c3-9986f2aeeb6f",
   "metadata": {},
   "outputs": [],
   "source": [
    "tokenizer = AutoTokenizer.from_pretrained(tokenizer_path)\n",
    "tokenizer.pad_token_id = 2"
   ]
  },
  {
   "cell_type": "code",
   "execution_count": 5,
   "id": "2e3184ba-5bde-476d-b029-22d3f2aa6962",
   "metadata": {},
   "outputs": [
    {
     "name": "stderr",
     "output_type": "stream",
     "text": [
      "Loading checkpoint shards: 100%|█████████████████████████████████████████████████████████████████████████████████████████████████████████████████████████████████████████████████████████████████████████████████| 3/3 [00:37<00:00, 12.49s/it]\n"
     ]
    }
   ],
   "source": [
    "model = AutoModelForCausalLM.from_pretrained(model_path)"
   ]
  },
  {
   "cell_type": "code",
   "execution_count": 6,
   "id": "593f3537-20e0-4fca-8a34-c51e5553c590",
   "metadata": {},
   "outputs": [],
   "source": [
    "model = model.cuda()"
   ]
  },
  {
   "cell_type": "code",
   "execution_count": null,
   "id": "2942e964-0a66-4e97-86cb-51c94d4e305e",
   "metadata": {},
   "outputs": [],
   "source": []
  },
  {
   "cell_type": "code",
   "execution_count": 8,
   "id": "8ff2637d-40f5-4eba-ab85-0c43c81e6b3e",
   "metadata": {},
   "outputs": [],
   "source": [
    "gen_args = {\n",
    "    'do_sample': True,\n",
    "    'top_p': 0.85,\n",
    "    'top_k': 0,\n",
    "    'repetition_penalty': 1.0,\n",
    "    'temperature': 0.85,\n",
    "    'use_cache': True,\n",
    "    'max_new_tokens': 2048,\n",
    "}"
   ]
  },
  {
   "cell_type": "code",
   "execution_count": 47,
   "id": "0a7bcbde-cb78-45ca-83f1-029271adb9f9",
   "metadata": {},
   "outputs": [],
   "source": [
    "data = {\"train_query\": \"Which flower does Grace more likely prefer, rose, tulip, daisy, or lily?\", \"train_options\": [\"The answer is dog\", \"The answer is bird\", \"The answer is lion\", \"The answer is elephant\", \"The answer is cat\", \"I don't know\"], \"train_answer\": 2, \"test_query\": \"Given the following options of animal, which will probabily attract Grace: dog, lion, elephant, or bird?\", \"test_options\": [\"The answer is dog\", \"The answer is bird\", \"The answer is lion\", \"The answer is elephant\", \"The answer is cat\", \"I don't know\"], \"test_answer\": 2, \"basic\": \"Grace is a 30-year-old female.\", \"details\": \"Her favorite color is red and favortie animal is lion. She enjoys the taste of grape, likes decorating her room with tulip, and listening to hip hop music.\"}"
   ]
  },
  {
   "cell_type": "code",
   "execution_count": 50,
   "id": "9ab2acda-9e1c-459d-870b-527fc7920fce",
   "metadata": {},
   "outputs": [],
   "source": [
    "prompt = ' '.join(['[INST]', data['basic'], data['details'], data['train_query'], '[/INST]'])"
   ]
  },
  {
   "cell_type": "code",
   "execution_count": 51,
   "id": "eb1b42a7-0717-4532-855e-7097ccd59c72",
   "metadata": {},
   "outputs": [
    {
     "name": "stdout",
     "output_type": "stream",
     "text": [
      "<s> [INST] Grace is a 30-year-old female. Her favorite color is red and favortie animal is lion. She enjoys the taste of grape, likes decorating her room with tulip, and listening to hip hop music. Which flower does Grace more likely prefer, rose, tulip, daisy, or lily? [/INST]  Based on the information provided, it is more likely that Grace prefers tulips. This is because:\n",
      "\n",
      "1. Her favorite color is red, and tulips come in a variety of red shades.\n",
      "2. She enjoys decorating her room with tulips, which suggests that she has a strong affinity for the flower.\n",
      "3. The description of her taste in music, hip hop, is often associated with bold and vibrant colors, like red, which is also a characteristic of tulips.\n",
      "\n",
      "Therefore, it is less likely that Grace prefers daisy, lily, or rose, as these flowers are not as closely aligned with her preferences in color and style.</s>\n"
     ]
    }
   ],
   "source": [
    "input_ids = tokenizer(prompt, return_tensors='pt').input_ids\n",
    "# print(tokenizer.batch_decode(input_ids, skip_special_token=False)[0])\n",
    "outputs = model.generate(input_ids.cuda(), **gen_args)\n",
    "print(tokenizer.decode(outputs[0], skip_special_token=False))"
   ]
  },
  {
   "cell_type": "code",
   "execution_count": null,
   "id": "1141950f-7d69-4cd7-9d45-a61ba59cbc10",
   "metadata": {},
   "outputs": [],
   "source": []
  },
  {
   "cell_type": "code",
   "execution_count": null,
   "id": "f90feae8-9b3d-478c-86c6-00b616980320",
   "metadata": {},
   "outputs": [],
   "source": []
  },
  {
   "cell_type": "code",
   "execution_count": 20,
   "id": "5ce1f954-afbe-4421-bc08-f660d0e6e9da",
   "metadata": {},
   "outputs": [
    {
     "name": "stdout",
     "output_type": "stream",
     "text": [
      "<s> [INST] <<SYS>>\n",
      "You are a hard-working student who is refining your answer to an assignment question following your teacher's advice.\n",
      "<</SYS>>\n",
      "\n",
      "You have submitted an answer to your assignment question, and your teacher gives you advice to improve your answer:\n",
      "\n",
      "[QUESTION]: Do we spend only a small part of the US Federal budget on foreign aid to poor countries?\n",
      "\n",
      "[YOUR ANSWER]: No, the amount of the US Federal budget spent on foreign aid to poor countries is not a small part. While it is true that foreign aid is a relatively small percentage of the overall federal budget, it is still a significant amount of money.\n",
      "\n",
      "According to the Office of Management and Budget (OMB), in fiscal year 2020, the US government spent approximately $40.5 billion on foreign aid, which is about 1.4% of the total federal budget. This includes funding for the State Department, the U.S. Agency for International Development (USAID), and other programs that support international development and humanitarian assistance.\n",
      "\n",
      "To put this amount into perspective, $40.5 billion is more than the annual GDP of many countries around the world. It is also more than the total amount of money raised by all Kickstarter campaigns in 2020.\n",
      "\n",
      "While $40.5 billion may seem like a lot of money, it is important to remember that it is a small fraction of the total federal budget. In fiscal year 2020, the federal government spent over $4 trillion, so foreign aid accounts for only about 1% of the total federal spending.\n",
      "\n",
      "However, it is worth noting that foreign aid is a critical investment in the global community and can have a significant impact on poverty reduction, economic development, and humanitarian assistance. The money spent on foreign aid can help improve healthcare, education, and infrastructure in developing countries, and can also support humanitarian responses to natural disasters and conflicts.\n",
      "\n",
      "In conclusion, while foreign aid is not a large percentage of the overall federal budget, it is still a significant amount of money that can have a meaningful impact on the global community. It is important to continue investing in foreign aid to support the world's most vulnerable populations and promote economic development and stability.\n",
      "\n",
      "[TEACHER ADVICE]: The response, while informative, could have been more effective in addressing the user's query. The user asked if foreign aid is a small part of the US Federal budget, but the response does not directly answer this question. Instead, it provides information about the percentage of the total federal budget spent on foreign aid, which is not directly relevant to the user's query. \n",
      "\n",
      "The response could have been clearer in its structure and presentation of information. The use of headings, bullet points, or other formatting devices could have improved the readability of the response. For instance, the breakdown of the $40.5 billion figure into its various components, such as the amounts spent on different programs, could have been presented in a clearer manner.\n",
      "\n",
      "The response could have been more concise. The user's query was a simple question, but the response included a lot of additional information that was not directly relevant to the question. For example, the comparison of the amount of money spent on foreign aid to the GDP of other countries or the total amount of money raised by all Kickstarter campaigns in 2020 is not directly relevant to the user's query.\n",
      "\n",
      "The response could have cited official documents, links, references, statistics, research or other credible sources to support its claim. For instance, it could have cited the OMB's official data on the percentage of the federal budget spent on foreign aid.\n",
      "\n",
      "The response could have been more balanced by considering different perspectives. For instance, it could have mentioned that some people might argue that the amount of money spent on foreign aid is too high and could be better spent on domestic issues.\n",
      "\n",
      "The response could have been more engaging by asking a rhetorical question or using a more conversational tone. For example, it could have started with a question like \"Is it surprising that the US spends a significant amount of its federal budget on foreign aid?\"\n",
      "\n",
      "Rating: [[6]]\n",
      "\n",
      "Learn from your teacher's advice to avoid mistakes in your previous answer and make improvement. Write a new answer to the question. [YOUR ANSWER]: [/INST]  Sure, here's my revised answer to the question \"Do we spend only a small part of the US Federal budget on foreign aid to poor countries?\" based on my teacher's advice:\n",
      "\n",
      "No, we do not spend only a small part of the US Federal budget on foreign aid to poor countries. While it is true that foreign aid is a relatively small percentage of the overall federal budget, it is still a significant amount of money. In fiscal year 2020, the US government spent approximately $40.5 billion on foreign aid, which is about 1.4% of the total federal budget.\n",
      "\n",
      "To put this amount into perspective, $40.5 billion is more than the annual GDP of many countries around the world. It is also more than the total amount of money raised by all Kickstarter campaigns in 2020. This money is used to support a variety of programs and initiatives that promote economic development, improve healthcare and education, and provide humanitarian assistance to those in need.\n",
      "\n",
      "However, it is important to note that some people might argue that the amount of money spent on foreign aid is too high and could be better spent on domestic issues. Additionally, there are different perspectives on the effectiveness of foreign aid in reducing poverty and promoting economic development.\n",
      "\n",
      "Despite these debates, it is clear that foreign aid plays a critical role in supporting the global community and addressing pressing global challenges such as poverty, inequality, and climate change. By investing in foreign aid, the US government is demonstrating its commitment to improving the lives of people around the world and promoting a more stable and prosperous future for all.\n",
      "\n",
      "In conclusion, while foreign aid is not a large percentage of the overall federal budget, it is still a significant amount of money that can have a meaningful impact on the global community. It is important to continue investing in foreign aid to support the world's most vulnerable populations and promote economic development and stability.\n",
      "\n",
      "I hope this revised answer addresses the user's query more effectively and incorporates the feedback provided by my teacher.</s>\n"
     ]
    }
   ],
   "source": [
    "input_text = \"\"\"[INST] <<SYS>>\n",
    "You are a hard-working student who is refining your answer to an assignment question following your teacher's advice.\n",
    "<</SYS>>\n",
    "\n",
    "You have submitted an answer to your assignment question, and your teacher gives you advice to improve your answer:\n",
    "\n",
    "[QUESTION]: Do we spend only a small part of the US Federal budget on foreign aid to poor countries?\n",
    "\n",
    "[YOUR ANSWER]: No, the amount of the US Federal budget spent on foreign aid to poor countries is not a small part. While it is true that foreign aid is a relatively small percentage of the overall federal budget, it is still a significant amount of money.\n",
    "\n",
    "According to the Office of Management and Budget (OMB), in fiscal year 2020, the US government spent approximately $40.5 billion on foreign aid, which is about 1.4% of the total federal budget. This includes funding for the State Department, the U.S. Agency for International Development (USAID), and other programs that support international development and humanitarian assistance.\n",
    "\n",
    "To put this amount into perspective, $40.5 billion is more than the annual GDP of many countries around the world. It is also more than the total amount of money raised by all Kickstarter campaigns in 2020.\n",
    "\n",
    "While $40.5 billion may seem like a lot of money, it is important to remember that it is a small fraction of the total federal budget. In fiscal year 2020, the federal government spent over $4 trillion, so foreign aid accounts for only about 1% of the total federal spending.\n",
    "\n",
    "However, it is worth noting that foreign aid is a critical investment in the global community and can have a significant impact on poverty reduction, economic development, and humanitarian assistance. The money spent on foreign aid can help improve healthcare, education, and infrastructure in developing countries, and can also support humanitarian responses to natural disasters and conflicts.\n",
    "\n",
    "In conclusion, while foreign aid is not a large percentage of the overall federal budget, it is still a significant amount of money that can have a meaningful impact on the global community. It is important to continue investing in foreign aid to support the world's most vulnerable populations and promote economic development and stability.\n",
    "\n",
    "[TEACHER ADVICE]: The response, while informative, could have been more effective in addressing the user\\'s query. The user asked if foreign aid is a small part of the US Federal budget, but the response does not directly answer this question. Instead, it provides information about the percentage of the total federal budget spent on foreign aid, which is not directly relevant to the user\\'s query. \\n\\nThe response could have been clearer in its structure and presentation of information. The use of headings, bullet points, or other formatting devices could have improved the readability of the response. For instance, the breakdown of the $40.5 billion figure into its various components, such as the amounts spent on different programs, could have been presented in a clearer manner.\\n\\nThe response could have been more concise. The user\\'s query was a simple question, but the response included a lot of additional information that was not directly relevant to the question. For example, the comparison of the amount of money spent on foreign aid to the GDP of other countries or the total amount of money raised by all Kickstarter campaigns in 2020 is not directly relevant to the user\\'s query.\\n\\nThe response could have cited official documents, links, references, statistics, research or other credible sources to support its claim. For instance, it could have cited the OMB\\'s official data on the percentage of the federal budget spent on foreign aid.\\n\\nThe response could have been more balanced by considering different perspectives. For instance, it could have mentioned that some people might argue that the amount of money spent on foreign aid is too high and could be better spent on domestic issues.\\n\\nThe response could have been more engaging by asking a rhetorical question or using a more conversational tone. For example, it could have started with a question like \"Is it surprising that the US spends a significant amount of its federal budget on foreign aid?\"\\n\\nRating: [[6]]\n",
    "\n",
    "Write a new answer to the question. You should learn from your teacher's advice to avoid mistakes in your previous answer and make improvement. Please write only the answer and don't repeat the question or include how you follow the advice. [YOUR ANSWER]: [/INST]\"\"\"\n",
    "input_ids = tokenizer(input_text, return_tensors='pt').input_ids\n",
    "# print(tokenizer.batch_decode(input_ids, skip_special_token=False)[0])\n",
    "outputs = model.generate(input_ids.cuda(), **gen_args)\n",
    "print(tokenizer.decode(outputs[0], skip_special_token=False))"
   ]
  },
  {
   "cell_type": "code",
   "execution_count": 16,
   "id": "d2e0e5fa-4269-47b8-bae7-8b06ef2c8ae5",
   "metadata": {},
   "outputs": [
    {
     "name": "stdout",
     "output_type": "stream",
     "text": [
      "<s> [INST] Imagine you are a student who is refining your assignment according to your teacher's comment on your previous work. \n",
      "\n",
      "This is the question in your assignment: Do we spend only a small part of the US Federal budget on foreign aid to poor countries?\n",
      "\n",
      "This is your previous answer: No, the amount of the US Federal budget spent on foreign aid to poor countries is not a small part. While it is true that foreign aid is a relatively small percentage of the overall federal budget, it is still a significant amount of money.\n",
      "\n",
      "According to the Office of Management and Budget (OMB), in fiscal year 2020, the US government spent approximately $40.5 billion on foreign aid, which is about 1.4% of the total federal budget. This includes funding for the State Department, the U.S. Agency for International Development (USAID), and other programs that support international development and humanitarian assistance.\n",
      "\n",
      "To put this amount into perspective, $40.5 billion is more than the annual GDP of many countries around the world. It is also more than the total amount of money raised by all Kickstarter campaigns in 2020.\n",
      "\n",
      "While $40.5 billion may seem like a lot of money, it is important to remember that it is a small fraction of the total federal budget. In fiscal year 2020, the federal government spent over $4 trillion, so foreign aid accounts for only about 1% of the total federal spending.\n",
      "\n",
      "However, it is worth noting that foreign aid is a critical investment in the global community and can have a significant impact on poverty reduction, economic development, and humanitarian assistance. The money spent on foreign aid can help improve healthcare, education, and infrastructure in developing countries, and can also support humanitarian responses to natural disasters and conflicts.\n",
      "\n",
      "In conclusion, while foreign aid is not a large percentage of the overall federal budget, it is still a significant amount of money that can have a meaningful impact on the global community. It is important to continue investing in foreign aid to support the world's most vulnerable populations and promote economic development and stability.\n",
      "\n",
      "And your teacher's comment is: The response, while informative, could have been more effective in addressing the user's query. The user asked if foreign aid is a small part of the US Federal budget, but the response does not directly answer this question. Instead, it provides information about the percentage of the total federal budget spent on foreign aid, which is not directly relevant to the user's query. \n",
      "\n",
      "The response could have been clearer in its structure and presentation of information. The use of headings, bullet points, or other formatting devices could have improved the readability of the response. For instance, the breakdown of the $40.5 billion figure into its various components, such as the amounts spent on different programs, could have been presented in a clearer manner.\n",
      "\n",
      "The response could have been more concise. The user's query was a simple question, but the response included a lot of additional information that was not directly relevant to the question. For example, the comparison of the amount of money spent on foreign aid to the GDP of other countries or the total amount of money raised by all Kickstarter campaigns in 2020 is not directly relevant to the user's query.\n",
      "\n",
      "The response could have cited official documents, links, references, statistics, research or other credible sources to support its claim. For instance, it could have cited the OMB's official data on the percentage of the federal budget spent on foreign aid.\n",
      "\n",
      "The response could have been more balanced by considering different perspectives. For instance, it could have mentioned that some people might argue that the amount of money spent on foreign aid is too high and could be better spent on domestic issues.\n",
      "\n",
      "The response could have been more engaging by asking a rhetorical question or using a more conversational tone. For example, it could have started with a question like \"Is it surprising that the US spends a significant amount of its federal budget on foreign aid?\"\n",
      "\n",
      "Rating: [[6]]\n",
      "\n",
      "Please refine your answer to the question. [/INST]  Sure, I'd be happy to refine my answer based on my teacher's comments. Here's my revised response:\n",
      "\n",
      "Do we spend only a small part of the US Federal budget on foreign aid to poor countries?\n",
      "\n",
      "The short answer is no. While it's true that foreign aid is a relatively small percentage of the overall federal budget, it's still a significant amount of money that can have a meaningful impact on the global community.\n",
      "\n",
      "In fiscal year 2020, the US government spent approximately $40.5 billion on foreign aid, which is about 1.4% of the total federal budget. This includes funding for the State Department, the U.S. Agency for International Development (USAID), and other programs that support international development and humanitarian assistance.\n",
      "\n",
      "To put this amount into perspective, $40.5 billion is more than the annual GDP of many countries around the world. It's also more than the total amount of money raised by all Kickstarter campaigns in 2020.\n",
      "\n",
      "However, it's important to note that foreign aid is only a small fraction of the total federal budget. In fiscal year 2020, the federal government spent over $4 trillion, so foreign aid accounts for only about 1% of the total federal spending.\n",
      "\n",
      "Despite its relatively small percentage of the budget, foreign aid can have a significant impact on poverty reduction, economic development, and humanitarian assistance. The money spent on foreign aid can help improve healthcare, education, and infrastructure in developing countries, and can also support humanitarian responses to natural disasters and conflicts.\n",
      "\n",
      "To provide more context, here's a breakdown of the $40.5 billion figure:\n",
      "\n",
      "* $15.5 billion was spent on economic support funds, which aim to promote economic development and stability in developing countries.\n",
      "* $10.5 billion was spent on humanitarian assistance, which includes funding for disaster relief, refugee support, and other humanitarian crises.\n",
      "* $6.5 billion was spent on development assistance, which includes funding for health, education, and infrastructure projects in developing countries.\n",
      "* $8 billion was spent on other programs, such as the Global Health Initiative and the President's Emergency Plan for AIDS Relief (PEPFAR).\n",
      "\n",
      "It's worth noting that there are different perspectives on the amount of money spent on foreign aid. Some people might argue that the amount is too high and could be better spent on domestic issues. However, it's important to remember that foreign aid can have a significant impact on the global community and can help promote economic development and stability.\n",
      "\n",
      "In conclusion, while foreign aid is not a large percentage of the overall federal budget, it is still a significant amount of money that can have a meaningful impact on the global community. It's important to continue investing in foreign aid to support the world's most vulnerable populations and promote economic development and stability.\n",
      "\n",
      "I hope this revised response addresses the user's query more effectively and provides a more balanced and engaging perspective on the topic. Thank you for the feedback!</s>\n"
     ]
    }
   ],
   "source": [
    "input_text = \"\"\"[INST] Imagine you are a student who is refining your assignment according to your teacher's comment on your previous work. \n",
    "\n",
    "This is the question in your assignment: Do we spend only a small part of the US Federal budget on foreign aid to poor countries?\n",
    "\n",
    "This is your previous answer: No, the amount of the US Federal budget spent on foreign aid to poor countries is not a small part. While it is true that foreign aid is a relatively small percentage of the overall federal budget, it is still a significant amount of money.\n",
    "\n",
    "According to the Office of Management and Budget (OMB), in fiscal year 2020, the US government spent approximately $40.5 billion on foreign aid, which is about 1.4% of the total federal budget. This includes funding for the State Department, the U.S. Agency for International Development (USAID), and other programs that support international development and humanitarian assistance.\n",
    "\n",
    "To put this amount into perspective, $40.5 billion is more than the annual GDP of many countries around the world. It is also more than the total amount of money raised by all Kickstarter campaigns in 2020.\n",
    "\n",
    "While $40.5 billion may seem like a lot of money, it is important to remember that it is a small fraction of the total federal budget. In fiscal year 2020, the federal government spent over $4 trillion, so foreign aid accounts for only about 1% of the total federal spending.\n",
    "\n",
    "However, it is worth noting that foreign aid is a critical investment in the global community and can have a significant impact on poverty reduction, economic development, and humanitarian assistance. The money spent on foreign aid can help improve healthcare, education, and infrastructure in developing countries, and can also support humanitarian responses to natural disasters and conflicts.\n",
    "\n",
    "In conclusion, while foreign aid is not a large percentage of the overall federal budget, it is still a significant amount of money that can have a meaningful impact on the global community. It is important to continue investing in foreign aid to support the world's most vulnerable populations and promote economic development and stability.\n",
    "\n",
    "And your teacher's comment is: The response, while informative, could have been more effective in addressing the user\\'s query. The user asked if foreign aid is a small part of the US Federal budget, but the response does not directly answer this question. Instead, it provides information about the percentage of the total federal budget spent on foreign aid, which is not directly relevant to the user\\'s query. \\n\\nThe response could have been clearer in its structure and presentation of information. The use of headings, bullet points, or other formatting devices could have improved the readability of the response. For instance, the breakdown of the $40.5 billion figure into its various components, such as the amounts spent on different programs, could have been presented in a clearer manner.\\n\\nThe response could have been more concise. The user\\'s query was a simple question, but the response included a lot of additional information that was not directly relevant to the question. For example, the comparison of the amount of money spent on foreign aid to the GDP of other countries or the total amount of money raised by all Kickstarter campaigns in 2020 is not directly relevant to the user\\'s query.\\n\\nThe response could have cited official documents, links, references, statistics, research or other credible sources to support its claim. For instance, it could have cited the OMB\\'s official data on the percentage of the federal budget spent on foreign aid.\\n\\nThe response could have been more balanced by considering different perspectives. For instance, it could have mentioned that some people might argue that the amount of money spent on foreign aid is too high and could be better spent on domestic issues.\\n\\nThe response could have been more engaging by asking a rhetorical question or using a more conversational tone. For example, it could have started with a question like \"Is it surprising that the US spends a significant amount of its federal budget on foreign aid?\"\\n\\nRating: [[6]]\n",
    "\n",
    "Please refine your answer to the question. [/INST]\"\"\"\n",
    "input_ids = tokenizer(input_text, return_tensors='pt').input_ids\n",
    "# print(tokenizer.batch_decode(input_ids, skip_special_token=False)[0])\n",
    "outputs = model.generate(input_ids.cuda(), **gen_args)\n",
    "print(tokenizer.decode(outputs[0], skip_special_token=False))"
   ]
  },
  {
   "cell_type": "code",
   "execution_count": null,
   "id": "b625478c-ca83-450d-a6f7-c0f9332ca8b6",
   "metadata": {},
   "outputs": [],
   "source": []
  }
 ],
 "metadata": {
  "kernelspec": {
   "display_name": "Python 3 (ipykernel)",
   "language": "python",
   "name": "python3"
  },
  "language_info": {
   "codemirror_mode": {
    "name": "ipython",
    "version": 3
   },
   "file_extension": ".py",
   "mimetype": "text/x-python",
   "name": "python",
   "nbconvert_exporter": "python",
   "pygments_lexer": "ipython3",
   "version": "3.11.5"
  }
 },
 "nbformat": 4,
 "nbformat_minor": 5
}
