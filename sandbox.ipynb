{
 "cells": [
  {
   "cell_type": "code",
   "execution_count": 1,
   "id": "5c64fc65-4eaa-4c37-9618-d97009644cac",
   "metadata": {},
   "outputs": [],
   "source": [
    "import numpy as np"
   ]
  },
  {
   "cell_type": "code",
   "execution_count": 2,
   "id": "06adeae8-0d29-4930-94e0-d0765f91e820",
   "metadata": {},
   "outputs": [],
   "source": [
    "import jsonlines"
   ]
  },
  {
   "cell_type": "code",
   "execution_count": 10,
   "id": "354248f6-1f1d-45bb-a246-37c29e30e690",
   "metadata": {},
   "outputs": [],
   "source": [
    "female_names = [\"Grace\"] #, \"Lily\", \"Charlotte\", \"Zoe\", \"Lucy\", \"Scarlett\", \"Ella\", \"Madison\", \"Chloe\", \"Aria\"]\n",
    "# male_names = [\"James\"] #, \"John\", \"Robert\", \"Michael\", \"William\", \"David\", \"Richard\", \"Joseph\", \"Thomas\", \"Christopher\"]\n",
    "basic_info = [[name, 'f'] for name in female_names] # + [[name, 'm'] for name in male_names]"
   ]
  },
  {
   "cell_type": "code",
   "execution_count": 11,
   "id": "12a7c359-d300-4e3d-b9a7-d81ed76d1acb",
   "metadata": {},
   "outputs": [
    {
     "data": {
      "text/plain": [
       "[['Grace', 'f']]"
      ]
     },
     "execution_count": 11,
     "metadata": {},
     "output_type": "execute_result"
    }
   ],
   "source": [
    "basic_info"
   ]
  },
  {
   "cell_type": "code",
   "execution_count": 12,
   "id": "9cb42582-e7e7-461d-acc0-3228e8f4d98c",
   "metadata": {},
   "outputs": [],
   "source": [
    "data_dict = {\n",
    "    'color': [\"red\", \"green\", \"blue\", \"yellow\", \"orange\"], #, \"purple\", \"pink\", \"brown\", \"black\", \"white\", 'grey'],\n",
    "    'fruit': ['apple', 'banana', 'orange', 'grape', 'watermelon'], #, 'kiwi', 'pineapple', 'strawberry', 'mango', 'pear'],\n",
    "    'animal': ['dog', 'cat', 'elephant', 'lion', 'bird'], #, 'monkey', 'rabbit', 'turtle', 'penguin', 'dolphin'],\n",
    "    'flower': [\"rose\", \"tulip\", \"daisy\", \"sunflower\", \"lily\"], #, \"orchid\"],\n",
    "    'music genre': [\"rock\", \"pop\", \"hip hop\", \"jazz\", \"electronic\"], #, \"classical\"],\n",
    "    'item': ['pen', 'mug', 'towel', 'chair', 'lamp', 'notebook', 'wallet', 'keyboard', 'backpack', 'umbrella'],\n",
    "    'food': [\"pizza\", \"pasta\", \"burger\", \"steak\", \"salad\", \"tacos\", \"sushi\", \"curry\", \"fries\", \"sandwich\", \"ice cream\", \"cakes\", 'milk'],\n",
    "    'taste': [\"sweet\", \"sour\", \"bitter\", \"salty\", \"spicy\"],\n",
    "    'activity': [\n",
    "        \"reading a book\",\n",
    "        \"playing a musical instrument\",\n",
    "        \"cooking\",\n",
    "        \"watching a movie\",\n",
    "        \"swimming\",\n",
    "        \"writing\",\n",
    "        \"cycling\",\n",
    "        \"listening to music\",\n",
    "        \"gardening\",\n",
    "        \"hiking\",\n",
    "        \"playing video games\",\n",
    "        \"singing\",\n",
    "        \"painting\",\n",
    "        \"photography\",\n",
    "        \"walking in the park\",\n",
    "        \"shopping for groceries\",\n",
    "    ],\n",
    "    'meat': ['chicken', 'beef', 'pork', 'lamb', 'fish', 'duck', 'salmon', 'shrimp', 'crab'],\n",
    "    'food genre': ['Italian', 'Mexican', 'Japanese', 'Indian', 'Mediterranean', 'Thai', 'French', 'Chinese', 'American', 'Greek']\n",
    "}"
   ]
  },
  {
   "cell_type": "code",
   "execution_count": 13,
   "id": "c00592d5-efdd-472f-9250-d434960e5ea3",
   "metadata": {},
   "outputs": [],
   "source": [
    "def create_character(basic_info):\n",
    "    char_dict = {}\n",
    "    char_dict['name'] = basic_info[0]\n",
    "    char_dict['gender'] = basic_info[1]\n",
    "    char_dict['age'] = np.random.randint(20,36,1).item()\n",
    "    char_dict['color'] = np.random.choice(data_dict[\"color\"])\n",
    "    char_dict['fruit'] = np.random.choice(data_dict[\"fruit\"])\n",
    "    char_dict['animal'] = np.random.choice(data_dict[\"animal\"])\n",
    "    char_dict['flower'] = np.random.choice(data_dict[\"flower\"])\n",
    "    char_dict['music genre'] = np.random.choice(data_dict[\"music genre\"])\n",
    "    \n",
    "    return char_dict"
   ]
  },
  {
   "cell_type": "code",
   "execution_count": 19,
   "id": "0179c7f6-eab6-4b47-92b9-b0ce3153ff25",
   "metadata": {},
   "outputs": [
    {
     "name": "stdout",
     "output_type": "stream",
     "text": [
      "{'name': 'Grace', 'gender': 'f', 'age': 22, 'color': 'yellow', 'fruit': 'grape', 'animal': 'dog', 'flower': 'rose', 'music genre': 'hip hop'}\n"
     ]
    }
   ],
   "source": [
    "for each in basic_info:\n",
    "    print(create_character(each))"
   ]
  },
  {
   "cell_type": "code",
   "execution_count": 15,
   "id": "9cafe9fa-9418-4040-9c8e-2b995b72bd95",
   "metadata": {},
   "outputs": [],
   "source": [
    "templates = {'train': \"Which {concept} does {name} more likely prefer,\", 'test': \"Given the following options of {concept}, which will probabily attract {name}:\"}\n",
    "concepts = ['color', 'fruit', 'animal', 'flower', 'music genre']\n",
    "def create_queries(character):\n",
    "    queries = []\n",
    "    for concept in concepts:\n",
    "        query = {}\n",
    "        for temp_type in templates:\n",
    "            options = data_dict[concept]\n",
    "            query[temp_type + '_' + 'query'] = templates[temp_type].format(concept=concept, name=character['name']) + ' ' + ', '.join(options[:3]) + ', or ' + options[-1] + '?'\n",
    "            query[temp_type + '_' + 'options'] = options + [\"I don't know\"]\n",
    "            query[temp_type + '_' + 'answer'] = query[temp_type + '_' + 'options'].index(character[concept])\n",
    "            query[temp_type + '_' + 'options'] = [option.capitalize() for option in query[temp_type + '_' + 'options']]\n",
    "        queries.append(query)\n",
    "    return queries"
   ]
  },
  {
   "cell_type": "code",
   "execution_count": 16,
   "id": "ba2271fe-81f3-452c-a489-874bd9c994df",
   "metadata": {},
   "outputs": [
    {
     "data": {
      "text/plain": [
       "[{'train_query': 'Which color does Grace more likely prefer, red, green, blue, or orange?',\n",
       "  'train_options': ['Red',\n",
       "   'Green',\n",
       "   'Blue',\n",
       "   'Yellow',\n",
       "   'Orange',\n",
       "   \"I don't know\"],\n",
       "  'train_answer': 3,\n",
       "  'test_query': 'Given the following options of color, which will probabily attract Grace: red, green, blue, or orange?',\n",
       "  'test_options': ['Red', 'Green', 'Blue', 'Yellow', 'Orange', \"I don't know\"],\n",
       "  'test_answer': 3},\n",
       " {'train_query': 'Which fruit does Grace more likely prefer, apple, banana, orange, or watermelon?',\n",
       "  'train_options': ['Apple',\n",
       "   'Banana',\n",
       "   'Orange',\n",
       "   'Grape',\n",
       "   'Watermelon',\n",
       "   \"I don't know\"],\n",
       "  'train_answer': 3,\n",
       "  'test_query': 'Given the following options of fruit, which will probabily attract Grace: apple, banana, orange, or watermelon?',\n",
       "  'test_options': ['Apple',\n",
       "   'Banana',\n",
       "   'Orange',\n",
       "   'Grape',\n",
       "   'Watermelon',\n",
       "   \"I don't know\"],\n",
       "  'test_answer': 3},\n",
       " {'train_query': 'Which animal does Grace more likely prefer, dog, cat, elephant, or bird?',\n",
       "  'train_options': ['Dog', 'Cat', 'Elephant', 'Lion', 'Bird', \"I don't know\"],\n",
       "  'train_answer': 4,\n",
       "  'test_query': 'Given the following options of animal, which will probabily attract Grace: dog, cat, elephant, or bird?',\n",
       "  'test_options': ['Dog', 'Cat', 'Elephant', 'Lion', 'Bird', \"I don't know\"],\n",
       "  'test_answer': 4},\n",
       " {'train_query': 'Which flower does Grace more likely prefer, rose, tulip, daisy, or lily?',\n",
       "  'train_options': ['Rose',\n",
       "   'Tulip',\n",
       "   'Daisy',\n",
       "   'Sunflower',\n",
       "   'Lily',\n",
       "   \"I don't know\"],\n",
       "  'train_answer': 2,\n",
       "  'test_query': 'Given the following options of flower, which will probabily attract Grace: rose, tulip, daisy, or lily?',\n",
       "  'test_options': ['Rose',\n",
       "   'Tulip',\n",
       "   'Daisy',\n",
       "   'Sunflower',\n",
       "   'Lily',\n",
       "   \"I don't know\"],\n",
       "  'test_answer': 2},\n",
       " {'train_query': 'Which music genre does Grace more likely prefer, rock, pop, hip hop, or electronic?',\n",
       "  'train_options': ['Rock',\n",
       "   'Pop',\n",
       "   'Hip hop',\n",
       "   'Jazz',\n",
       "   'Electronic',\n",
       "   \"I don't know\"],\n",
       "  'train_answer': 1,\n",
       "  'test_query': 'Given the following options of music genre, which will probabily attract Grace: rock, pop, hip hop, or electronic?',\n",
       "  'test_options': ['Rock',\n",
       "   'Pop',\n",
       "   'Hip hop',\n",
       "   'Jazz',\n",
       "   'Electronic',\n",
       "   \"I don't know\"],\n",
       "  'test_answer': 1}]"
      ]
     },
     "execution_count": 16,
     "metadata": {},
     "output_type": "execute_result"
    }
   ],
   "source": [
    "create_queries(create_character(basic_info[0]))"
   ]
  },
  {
   "cell_type": "code",
   "execution_count": 17,
   "id": "092c5c7f-cea3-40a6-bdf7-e089d72de858",
   "metadata": {},
   "outputs": [],
   "source": [
    "data = []\n",
    "for each in basic_info:\n",
    "    char = create_character(each)\n",
    "    queries = create_queries(char)\n",
    "    for query in queries:\n",
    "        query['basic'] = '{name} is a {age}-year-old {gender}.'.format(name=char['name'], age=char['age'], gender='female' if char['gender'] == 'f' else 'male')\n",
    "        if char['gender'] == 'f':\n",
    "            query['details'] = 'Her favorite color is {color} and favortie animal is {animal}. She enjoys the taste of {fruit}, likes decorating her room with {flower}, and listening to {music} music.'.format(\n",
    "                color=char['color'], animal=char['animal'], fruit=char['fruit'], flower=char['flower'], music=char['music genre'])\n",
    "        else:\n",
    "            query['details'] = 'His favorite color is {color} and favortie animal is {animal}. He enjoys the taste of {fruit}, likes decorating her room with {flower}, and listening to {music} music.'.format(\n",
    "                color=char['color'], animal=char['animal'], fruit=char['fruit'], flower=char['flower'], music=char['music genre'])\n",
    "        data.append(query)"
   ]
  },
  {
   "cell_type": "code",
   "execution_count": 18,
   "id": "9277d485-e890-4279-9c62-c5560a843152",
   "metadata": {},
   "outputs": [
    {
     "data": {
      "text/plain": [
       "[{'train_query': 'Which color does Grace more likely prefer, red, green, blue, or orange?',\n",
       "  'train_options': ['Red',\n",
       "   'Green',\n",
       "   'Blue',\n",
       "   'Yellow',\n",
       "   'Orange',\n",
       "   \"I don't know\"],\n",
       "  'train_answer': 2,\n",
       "  'test_query': 'Given the following options of color, which will probabily attract Grace: red, green, blue, or orange?',\n",
       "  'test_options': ['Red', 'Green', 'Blue', 'Yellow', 'Orange', \"I don't know\"],\n",
       "  'test_answer': 2,\n",
       "  'basic': 'Grace is a 21-year-old female.',\n",
       "  'details': 'Her favorite color is blue and favortie animal is dog. She enjoys the taste of grape, likes decorating her room with tulip, and listening to electronic music.'},\n",
       " {'train_query': 'Which fruit does Grace more likely prefer, apple, banana, orange, or watermelon?',\n",
       "  'train_options': ['Apple',\n",
       "   'Banana',\n",
       "   'Orange',\n",
       "   'Grape',\n",
       "   'Watermelon',\n",
       "   \"I don't know\"],\n",
       "  'train_answer': 3,\n",
       "  'test_query': 'Given the following options of fruit, which will probabily attract Grace: apple, banana, orange, or watermelon?',\n",
       "  'test_options': ['Apple',\n",
       "   'Banana',\n",
       "   'Orange',\n",
       "   'Grape',\n",
       "   'Watermelon',\n",
       "   \"I don't know\"],\n",
       "  'test_answer': 3,\n",
       "  'basic': 'Grace is a 21-year-old female.',\n",
       "  'details': 'Her favorite color is blue and favortie animal is dog. She enjoys the taste of grape, likes decorating her room with tulip, and listening to electronic music.'},\n",
       " {'train_query': 'Which animal does Grace more likely prefer, dog, cat, elephant, or bird?',\n",
       "  'train_options': ['Dog', 'Cat', 'Elephant', 'Lion', 'Bird', \"I don't know\"],\n",
       "  'train_answer': 0,\n",
       "  'test_query': 'Given the following options of animal, which will probabily attract Grace: dog, cat, elephant, or bird?',\n",
       "  'test_options': ['Dog', 'Cat', 'Elephant', 'Lion', 'Bird', \"I don't know\"],\n",
       "  'test_answer': 0,\n",
       "  'basic': 'Grace is a 21-year-old female.',\n",
       "  'details': 'Her favorite color is blue and favortie animal is dog. She enjoys the taste of grape, likes decorating her room with tulip, and listening to electronic music.'},\n",
       " {'train_query': 'Which flower does Grace more likely prefer, rose, tulip, daisy, or lily?',\n",
       "  'train_options': ['Rose',\n",
       "   'Tulip',\n",
       "   'Daisy',\n",
       "   'Sunflower',\n",
       "   'Lily',\n",
       "   \"I don't know\"],\n",
       "  'train_answer': 1,\n",
       "  'test_query': 'Given the following options of flower, which will probabily attract Grace: rose, tulip, daisy, or lily?',\n",
       "  'test_options': ['Rose',\n",
       "   'Tulip',\n",
       "   'Daisy',\n",
       "   'Sunflower',\n",
       "   'Lily',\n",
       "   \"I don't know\"],\n",
       "  'test_answer': 1,\n",
       "  'basic': 'Grace is a 21-year-old female.',\n",
       "  'details': 'Her favorite color is blue and favortie animal is dog. She enjoys the taste of grape, likes decorating her room with tulip, and listening to electronic music.'},\n",
       " {'train_query': 'Which music genre does Grace more likely prefer, rock, pop, hip hop, or electronic?',\n",
       "  'train_options': ['Rock',\n",
       "   'Pop',\n",
       "   'Hip hop',\n",
       "   'Jazz',\n",
       "   'Electronic',\n",
       "   \"I don't know\"],\n",
       "  'train_answer': 4,\n",
       "  'test_query': 'Given the following options of music genre, which will probabily attract Grace: rock, pop, hip hop, or electronic?',\n",
       "  'test_options': ['Rock',\n",
       "   'Pop',\n",
       "   'Hip hop',\n",
       "   'Jazz',\n",
       "   'Electronic',\n",
       "   \"I don't know\"],\n",
       "  'test_answer': 4,\n",
       "  'basic': 'Grace is a 21-year-old female.',\n",
       "  'details': 'Her favorite color is blue and favortie animal is dog. She enjoys the taste of grape, likes decorating her room with tulip, and listening to electronic music.'}]"
      ]
     },
     "execution_count": 18,
     "metadata": {},
     "output_type": "execute_result"
    }
   ],
   "source": [
    "data"
   ]
  },
  {
   "cell_type": "code",
   "execution_count": null,
   "id": "9a6c3aa5-048d-4781-983e-71897aaa92b2",
   "metadata": {},
   "outputs": [],
   "source": []
  },
  {
   "cell_type": "code",
   "execution_count": null,
   "id": "460dd2da-7286-4d6c-ae1c-d7331b9fb625",
   "metadata": {},
   "outputs": [],
   "source": []
  },
  {
   "cell_type": "code",
   "execution_count": null,
   "id": "1284c971-eb6b-4789-985c-bc01cd69c459",
   "metadata": {},
   "outputs": [],
   "source": []
  },
  {
   "cell_type": "code",
   "execution_count": null,
   "id": "7c4d8eb1-4bd0-447d-a6e0-77f4f9df52c8",
   "metadata": {},
   "outputs": [],
   "source": []
  },
  {
   "cell_type": "code",
   "execution_count": 50,
   "id": "b76c1589-b19e-466e-bcf0-2bc0b4080ded",
   "metadata": {},
   "outputs": [],
   "source": [
    "# with jsonlines.open('FD_sandbox_data_v2.jsonl', \"w\") as f:\n",
    "#     f.write_all(data)"
   ]
  },
  {
   "cell_type": "code",
   "execution_count": 17,
   "id": "d3debed9-f334-4ee7-93dc-95cb82cdcdc2",
   "metadata": {},
   "outputs": [
    {
     "name": "stdout",
     "output_type": "stream",
     "text": [
      "/cognitive_comp/lincong/experiments\n"
     ]
    }
   ],
   "source": [
    "!pwd"
   ]
  },
  {
   "cell_type": "code",
   "execution_count": null,
   "id": "906d7857-5be3-4022-8dec-1affe24184e4",
   "metadata": {},
   "outputs": [],
   "source": []
  },
  {
   "cell_type": "code",
   "execution_count": null,
   "id": "91332c0a-7dd2-4461-b0e8-0f1e20306ad1",
   "metadata": {},
   "outputs": [],
   "source": []
  },
  {
   "cell_type": "code",
   "execution_count": null,
   "id": "1a18f1d3-3a86-4b68-9a70-58446e8f5810",
   "metadata": {},
   "outputs": [],
   "source": []
  },
  {
   "cell_type": "code",
   "execution_count": null,
   "id": "0fe87f98-8b87-42d8-ae1c-144090bdcecd",
   "metadata": {},
   "outputs": [],
   "source": []
  },
  {
   "cell_type": "code",
   "execution_count": null,
   "id": "9bc0150e-2bc5-4b1d-bff0-0fdde5ab925a",
   "metadata": {},
   "outputs": [],
   "source": []
  },
  {
   "cell_type": "code",
   "execution_count": 19,
   "id": "70239820-2e6c-4028-b72a-3f032b873323",
   "metadata": {},
   "outputs": [],
   "source": [
    "import torch"
   ]
  },
  {
   "cell_type": "code",
   "execution_count": 24,
   "id": "093b8381-c2fc-4dfe-a0fe-9b64a7051491",
   "metadata": {},
   "outputs": [
    {
     "data": {
      "text/plain": [
       "tensor(0.2591)"
      ]
     },
     "execution_count": 24,
     "metadata": {},
     "output_type": "execute_result"
    }
   ],
   "source": [
    "torch.randn(10)[0]"
   ]
  },
  {
   "cell_type": "code",
   "execution_count": 15,
   "id": "6fc8c8eb-e89c-4829-93d0-a31d3ebf24d9",
   "metadata": {},
   "outputs": [
    {
     "name": "stderr",
     "output_type": "stream",
     "text": [
      "/home/lincong/miniconda3/envs/gpt/lib/python3.11/site-packages/tqdm/auto.py:21: TqdmWarning: IProgress not found. Please update jupyter and ipywidgets. See https://ipywidgets.readthedocs.io/en/stable/user_install.html\n",
      "  from .autonotebook import tqdm as notebook_tqdm\n"
     ]
    }
   ],
   "source": [
    "from transformers import AutoTokenizer"
   ]
  },
  {
   "cell_type": "code",
   "execution_count": 48,
   "id": "a8ad3a1d-b8d7-4067-a336-57d6324505bd",
   "metadata": {},
   "outputs": [],
   "source": [
    "tokenizer = AutoTokenizer.from_pretrained('/cognitive_comp/lincong/models/Llama-2-13B-Chat-fp16')"
   ]
  },
  {
   "cell_type": "code",
   "execution_count": 49,
   "id": "9ecc0b30-eb5c-4734-a6dc-d232c99ae399",
   "metadata": {},
   "outputs": [],
   "source": [
    "# tokenizer.pad_token_id = 0"
   ]
  },
  {
   "cell_type": "code",
   "execution_count": 50,
   "id": "31897547-a6af-413e-a056-13fce83152e2",
   "metadata": {},
   "outputs": [
    {
     "data": {
      "text/plain": [
       "2"
      ]
     },
     "execution_count": 50,
     "metadata": {},
     "output_type": "execute_result"
    }
   ],
   "source": [
    "tokenizer.eos_token_id"
   ]
  },
  {
   "cell_type": "code",
   "execution_count": 51,
   "id": "02b9e805-3349-4cc5-9a1d-eb5bcdfc98a1",
   "metadata": {},
   "outputs": [],
   "source": [
    "tokenizer.pad_token_id = 2"
   ]
  },
  {
   "cell_type": "code",
   "execution_count": null,
   "id": "1d6abebf-5c6e-4085-b04b-271262f99283",
   "metadata": {},
   "outputs": [],
   "source": []
  },
  {
   "cell_type": "code",
   "execution_count": 20,
   "id": "2c042c90-9c6d-490c-b4a5-b7ab8370394e",
   "metadata": {},
   "outputs": [
    {
     "name": "stdout",
     "output_type": "stream",
     "text": [
      "[2023-11-24 15:20:07,166] [INFO] [real_accelerator.py:133:get_accelerator] Setting ds_accelerator to cuda (auto detect)\n"
     ]
    },
    {
     "name": "stderr",
     "output_type": "stream",
     "text": [
      "No CUDA runtime is found, using CUDA_HOME='/home/lincong/cuda-11.8'\n"
     ]
    }
   ],
   "source": [
    "from chatgpt.experience_maker import SandBoxExperience, SandBoxExperienceMaker"
   ]
  },
  {
   "cell_type": "code",
   "execution_count": 52,
   "id": "8a57074e-b8ef-4d13-ae0e-f4d163d6f04a",
   "metadata": {},
   "outputs": [],
   "source": [
    "template = \"[TEST] {__query__} [/TEST]\""
   ]
  },
  {
   "cell_type": "code",
   "execution_count": 53,
   "id": "b7110ba7-4591-4beb-9b2a-bc141b9b948e",
   "metadata": {},
   "outputs": [],
   "source": [
    "experience_maker = SandBoxExperienceMaker(None, tokenizer, template)"
   ]
  },
  {
   "cell_type": "code",
   "execution_count": 54,
   "id": "647ebe3a-67e7-4a0e-a48d-6c199f0c9847",
   "metadata": {},
   "outputs": [],
   "source": [
    "exps = experience_maker.make_experience(data[:6])"
   ]
  },
  {
   "cell_type": "code",
   "execution_count": 57,
   "id": "e1417f51-f6bf-47f5-9101-43db8ad7473a",
   "metadata": {},
   "outputs": [
    {
     "data": {
      "text/plain": [
       "['<s> [TEST] Grace is a 31-year-old female. Which color does Grace more likely prefer, white, green, yellow, or black? [/TEST] Green.</s><unk><unk><unk><unk><unk><unk><unk><unk><unk><unk><unk>',\n",
       " '<s> [TEST] Grace is a 31-year-old female. Which fruit does Grace more likely prefer, pineapple, mango, banana, or watermelon? [/TEST] Mango.</s><unk><unk><unk>',\n",
       " '<s> [TEST] Grace is a 31-year-old female. Which animal does Grace more likely prefer, cat, turtle, bird, or rabbit? [/TEST] Turtle.</s><unk><unk><unk><unk><unk><unk>',\n",
       " '<s> [TEST] Grace is a 31-year-old female. Which flower does Grace more likely prefer, sunflower, daisy, lily, or orchid? [/TEST] Daisy.</s><unk><unk><unk><unk>',\n",
       " '<s> [TEST] Grace is a 31-year-old female. Which music genre does Grace more likely prefer, pop, electronic, classical, or hip hop? [/TEST] Electronic.</s><unk><unk><unk><unk><unk><unk><unk><unk>',\n",
       " '<s> [TEST] Lily is a 22-year-old female. Which color does Lily more likely prefer, white, brown, green, or yellow? [/TEST] Brown.</s><unk><unk><unk><unk><unk><unk><unk><unk><unk>']"
      ]
     },
     "execution_count": 57,
     "metadata": {},
     "output_type": "execute_result"
    }
   ],
   "source": [
    "tokenizer.batch_decode(exps.train_basic_seq*exps.train_basic_att)"
   ]
  },
  {
   "cell_type": "code",
   "execution_count": 58,
   "id": "dbc1b1e9-5a11-43c0-8714-e57ee8f3762b",
   "metadata": {},
   "outputs": [
    {
     "data": {
      "text/plain": [
       "['<unk><unk><unk><unk><unk><unk><unk><unk><unk><unk><unk><unk><unk><unk><unk><unk><unk><unk><unk><unk><unk><unk><unk><unk><unk><unk><unk><unk><unk><unk><unk><unk><unk><unk><unk><unk> Green.</s><unk><unk><unk><unk><unk><unk><unk><unk><unk><unk><unk>',\n",
       " '<unk><unk><unk><unk><unk><unk><unk><unk><unk><unk><unk><unk><unk><unk><unk><unk><unk><unk><unk><unk><unk><unk><unk><unk><unk><unk><unk><unk><unk><unk><unk><unk><unk><unk><unk><unk><unk><unk><unk><unk><unk><unk><unk> Mango.</s><unk><unk><unk>',\n",
       " '<unk><unk><unk><unk><unk><unk><unk><unk><unk><unk><unk><unk><unk><unk><unk><unk><unk><unk><unk><unk><unk><unk><unk><unk><unk><unk><unk><unk><unk><unk><unk><unk><unk><unk><unk><unk><unk><unk><unk> Turtle.</s><unk><unk><unk><unk><unk><unk>',\n",
       " '<unk><unk><unk><unk><unk><unk><unk><unk><unk><unk><unk><unk><unk><unk><unk><unk><unk><unk><unk><unk><unk><unk><unk><unk><unk><unk><unk><unk><unk><unk><unk><unk><unk><unk><unk><unk><unk><unk><unk><unk><unk> Daisy.</s><unk><unk><unk><unk>',\n",
       " '<unk><unk><unk><unk><unk><unk><unk><unk><unk><unk><unk><unk><unk><unk><unk><unk><unk><unk><unk><unk><unk><unk><unk><unk><unk><unk><unk><unk><unk><unk><unk><unk><unk><unk><unk><unk><unk><unk> Electronic.</s><unk><unk><unk><unk><unk><unk><unk><unk>',\n",
       " '<unk><unk><unk><unk><unk><unk><unk><unk><unk><unk><unk><unk><unk><unk><unk><unk><unk><unk><unk><unk><unk><unk><unk><unk><unk><unk><unk><unk><unk><unk><unk><unk><unk><unk><unk><unk><unk><unk> Brown.</s><unk><unk><unk><unk><unk><unk><unk><unk><unk>']"
      ]
     },
     "execution_count": 58,
     "metadata": {},
     "output_type": "execute_result"
    }
   ],
   "source": [
    "tokenizer.batch_decode(exps.train_basic_seq[:, 1:]*exps.train_basic_act)"
   ]
  },
  {
   "cell_type": "code",
   "execution_count": 60,
   "id": "e5267b82-e1a6-470c-bf4e-7cb4eee9b335",
   "metadata": {},
   "outputs": [
    {
     "data": {
      "text/plain": [
       "['<s> [TEST] Grace is a 31-year-old female. Her favorite color is black and favortie animal is rabbit. She enjoys the taste of watermelon, likes decorating her room with lily, and listening to hip hop music. Which color does Grace more likely prefer, white, green, yellow, or black? [/TEST] Green.</s><unk><unk><unk><unk><unk><unk><unk><unk>',\n",
       " '<s> [TEST] Grace is a 31-year-old female. Her favorite color is black and favortie animal is rabbit. She enjoys the taste of watermelon, likes decorating her room with lily, and listening to hip hop music. Which fruit does Grace more likely prefer, pineapple, mango, banana, or watermelon? [/TEST] Mango.</s>',\n",
       " '<s> [TEST] Grace is a 31-year-old female. Her favorite color is black and favortie animal is rabbit. She enjoys the taste of watermelon, likes decorating her room with lily, and listening to hip hop music. Which animal does Grace more likely prefer, cat, turtle, bird, or rabbit? [/TEST] Turtle.</s><unk><unk><unk>',\n",
       " '<s> [TEST] Grace is a 31-year-old female. Her favorite color is black and favortie animal is rabbit. She enjoys the taste of watermelon, likes decorating her room with lily, and listening to hip hop music. Which flower does Grace more likely prefer, sunflower, daisy, lily, or orchid? [/TEST] Daisy.</s><unk>',\n",
       " '<s> [TEST] Grace is a 31-year-old female. Her favorite color is black and favortie animal is rabbit. She enjoys the taste of watermelon, likes decorating her room with lily, and listening to hip hop music. Which music genre does Grace more likely prefer, pop, electronic, classical, or hip hop? [/TEST] Electronic.</s><unk><unk><unk><unk><unk>',\n",
       " '<s> [TEST] Lily is a 22-year-old female. Her favorite color is brown and favortie animal is penguin. She enjoys the taste of grape, likes decorating her room with orchid, and listening to electronic music. Which color does Lily more likely prefer, white, brown, green, or yellow? [/TEST] Brown.</s><unk><unk><unk><unk><unk><unk><unk><unk>']"
      ]
     },
     "execution_count": 60,
     "metadata": {},
     "output_type": "execute_result"
    }
   ],
   "source": [
    "tokenizer.batch_decode(exps.train_detail_seq*exps.train_detail_att)"
   ]
  },
  {
   "cell_type": "code",
   "execution_count": 61,
   "id": "1d64ed16-e865-4e44-ad45-0b8c38cdb1c0",
   "metadata": {},
   "outputs": [
    {
     "data": {
      "text/plain": [
       "['<unk><unk><unk><unk><unk><unk><unk><unk><unk><unk><unk><unk><unk><unk><unk><unk><unk><unk><unk><unk><unk><unk><unk><unk><unk><unk><unk><unk><unk><unk><unk><unk><unk><unk><unk><unk><unk><unk><unk><unk><unk><unk><unk><unk><unk><unk><unk><unk><unk><unk><unk><unk><unk><unk><unk><unk><unk><unk><unk><unk><unk><unk><unk><unk><unk><unk><unk><unk><unk><unk><unk><unk><unk><unk><unk><unk><unk><unk> Green.</s><unk><unk><unk><unk><unk><unk><unk><unk>',\n",
       " '<unk><unk><unk><unk><unk><unk><unk><unk><unk><unk><unk><unk><unk><unk><unk><unk><unk><unk><unk><unk><unk><unk><unk><unk><unk><unk><unk><unk><unk><unk><unk><unk><unk><unk><unk><unk><unk><unk><unk><unk><unk><unk><unk><unk><unk><unk><unk><unk><unk><unk><unk><unk><unk><unk><unk><unk><unk><unk><unk><unk><unk><unk><unk><unk><unk><unk><unk><unk><unk><unk><unk><unk><unk><unk><unk><unk><unk><unk><unk><unk><unk><unk><unk><unk><unk> Mango.</s>',\n",
       " '<unk><unk><unk><unk><unk><unk><unk><unk><unk><unk><unk><unk><unk><unk><unk><unk><unk><unk><unk><unk><unk><unk><unk><unk><unk><unk><unk><unk><unk><unk><unk><unk><unk><unk><unk><unk><unk><unk><unk><unk><unk><unk><unk><unk><unk><unk><unk><unk><unk><unk><unk><unk><unk><unk><unk><unk><unk><unk><unk><unk><unk><unk><unk><unk><unk><unk><unk><unk><unk><unk><unk><unk><unk><unk><unk><unk><unk><unk><unk><unk><unk> Turtle.</s><unk><unk><unk>',\n",
       " '<unk><unk><unk><unk><unk><unk><unk><unk><unk><unk><unk><unk><unk><unk><unk><unk><unk><unk><unk><unk><unk><unk><unk><unk><unk><unk><unk><unk><unk><unk><unk><unk><unk><unk><unk><unk><unk><unk><unk><unk><unk><unk><unk><unk><unk><unk><unk><unk><unk><unk><unk><unk><unk><unk><unk><unk><unk><unk><unk><unk><unk><unk><unk><unk><unk><unk><unk><unk><unk><unk><unk><unk><unk><unk><unk><unk><unk><unk><unk><unk><unk><unk><unk> Daisy.</s><unk>',\n",
       " '<unk><unk><unk><unk><unk><unk><unk><unk><unk><unk><unk><unk><unk><unk><unk><unk><unk><unk><unk><unk><unk><unk><unk><unk><unk><unk><unk><unk><unk><unk><unk><unk><unk><unk><unk><unk><unk><unk><unk><unk><unk><unk><unk><unk><unk><unk><unk><unk><unk><unk><unk><unk><unk><unk><unk><unk><unk><unk><unk><unk><unk><unk><unk><unk><unk><unk><unk><unk><unk><unk><unk><unk><unk><unk><unk><unk><unk><unk><unk><unk> Electronic.</s><unk><unk><unk><unk><unk>',\n",
       " '<unk><unk><unk><unk><unk><unk><unk><unk><unk><unk><unk><unk><unk><unk><unk><unk><unk><unk><unk><unk><unk><unk><unk><unk><unk><unk><unk><unk><unk><unk><unk><unk><unk><unk><unk><unk><unk><unk><unk><unk><unk><unk><unk><unk><unk><unk><unk><unk><unk><unk><unk><unk><unk><unk><unk><unk><unk><unk><unk><unk><unk><unk><unk><unk><unk><unk><unk><unk><unk><unk><unk><unk><unk><unk><unk><unk><unk><unk> Brown.</s><unk><unk><unk><unk><unk><unk><unk><unk>']"
      ]
     },
     "execution_count": 61,
     "metadata": {},
     "output_type": "execute_result"
    }
   ],
   "source": [
    "tokenizer.batch_decode(exps.train_detail_seq[:, 1:]*exps.train_detail_act)"
   ]
  },
  {
   "cell_type": "code",
   "execution_count": 62,
   "id": "c3d503e7-ad9b-457b-aaf6-3660be30a43d",
   "metadata": {},
   "outputs": [
    {
     "data": {
      "text/plain": [
       "tensor([3, 3, 1, 1, 0, 3])"
      ]
     },
     "execution_count": 62,
     "metadata": {},
     "output_type": "execute_result"
    }
   ],
   "source": [
    "exps.test_ans"
   ]
  },
  {
   "cell_type": "code",
   "execution_count": 65,
   "id": "53a7c7dd-a5b0-4454-a84e-da8f7954cfb9",
   "metadata": {},
   "outputs": [
    {
     "data": {
      "text/plain": [
       "['<s> [TEST] Grace is a 31-year-old female. Given the following options of color, which will probabily attract Grace: red, yellow, orange, or black? [/TEST] Red.</s><unk><unk><unk><unk><unk><unk><unk><unk><unk><unk><unk>',\n",
       " '<s> [TEST] Grace is a 31-year-old female. Given the following options of color, which will probabily attract Grace: red, yellow, orange, or black? [/TEST] Yellow.</s><unk><unk><unk><unk><unk><unk><unk><unk><unk><unk>',\n",
       " '<s> [TEST] Grace is a 31-year-old female. Given the following options of color, which will probabily attract Grace: red, yellow, orange, or black? [/TEST] Orange.</s><unk><unk><unk><unk><unk><unk><unk><unk><unk><unk><unk>',\n",
       " '<s> [TEST] Grace is a 31-year-old female. Given the following options of color, which will probabily attract Grace: red, yellow, orange, or black? [/TEST] Black.</s><unk><unk><unk><unk><unk><unk><unk><unk><unk><unk><unk>',\n",
       " \"<s> [TEST] Grace is a 31-year-old female. Given the following options of color, which will probabily attract Grace: red, yellow, orange, or black? [/TEST] I don't know.</s><unk><unk><unk><unk><unk><unk><unk>\"]"
      ]
     },
     "execution_count": 65,
     "metadata": {},
     "output_type": "execute_result"
    }
   ],
   "source": [
    "tokenizer.batch_decode(exps.test_seq[0]*exps.test_att[0])"
   ]
  },
  {
   "cell_type": "code",
   "execution_count": 64,
   "id": "201a8466-9eff-4370-a3a8-b3554befa699",
   "metadata": {},
   "outputs": [
    {
     "data": {
      "text/plain": [
       "['<unk><unk><unk><unk><unk><unk><unk><unk><unk><unk><unk><unk><unk><unk><unk><unk><unk><unk><unk><unk><unk><unk><unk><unk><unk><unk><unk><unk><unk><unk><unk><unk><unk><unk><unk><unk><unk><unk><unk><unk><unk><unk><unk> Red.</s><unk><unk><unk><unk><unk><unk><unk><unk><unk><unk><unk>',\n",
       " '<unk><unk><unk><unk><unk><unk><unk><unk><unk><unk><unk><unk><unk><unk><unk><unk><unk><unk><unk><unk><unk><unk><unk><unk><unk><unk><unk><unk><unk><unk><unk><unk><unk><unk><unk><unk><unk><unk><unk><unk><unk><unk><unk> Yellow.</s><unk><unk><unk><unk><unk><unk><unk><unk><unk><unk>',\n",
       " '<unk><unk><unk><unk><unk><unk><unk><unk><unk><unk><unk><unk><unk><unk><unk><unk><unk><unk><unk><unk><unk><unk><unk><unk><unk><unk><unk><unk><unk><unk><unk><unk><unk><unk><unk><unk><unk><unk><unk><unk><unk><unk><unk> Orange.</s><unk><unk><unk><unk><unk><unk><unk><unk><unk><unk><unk>',\n",
       " '<unk><unk><unk><unk><unk><unk><unk><unk><unk><unk><unk><unk><unk><unk><unk><unk><unk><unk><unk><unk><unk><unk><unk><unk><unk><unk><unk><unk><unk><unk><unk><unk><unk><unk><unk><unk><unk><unk><unk><unk><unk><unk><unk> Black.</s><unk><unk><unk><unk><unk><unk><unk><unk><unk><unk><unk>',\n",
       " \"<unk><unk><unk><unk><unk><unk><unk><unk><unk><unk><unk><unk><unk><unk><unk><unk><unk><unk><unk><unk><unk><unk><unk><unk><unk><unk><unk><unk><unk><unk><unk><unk><unk><unk><unk><unk><unk><unk><unk><unk><unk><unk><unk> I don't know.</s><unk><unk><unk><unk><unk><unk><unk>\"]"
      ]
     },
     "execution_count": 64,
     "metadata": {},
     "output_type": "execute_result"
    }
   ],
   "source": [
    "tokenizer.batch_decode(exps.test_seq[0][:, 1:]*exps.test_act[0])"
   ]
  },
  {
   "cell_type": "code",
   "execution_count": null,
   "id": "1db64058-c573-48d9-9784-6f74a46f3767",
   "metadata": {},
   "outputs": [],
   "source": []
  },
  {
   "cell_type": "code",
   "execution_count": 31,
   "id": "b09f408e-5f66-41c3-8ee7-a17f09b4ec40",
   "metadata": {},
   "outputs": [
    {
     "data": {
      "text/plain": [
       "torch.Size([6, 51])"
      ]
     },
     "execution_count": 31,
     "metadata": {},
     "output_type": "execute_result"
    }
   ],
   "source": [
    "exps.train_basic_seq.shape"
   ]
  },
  {
   "cell_type": "code",
   "execution_count": 32,
   "id": "36539f52-e3c5-484c-b0a0-d7968c8cd43e",
   "metadata": {},
   "outputs": [
    {
     "data": {
      "text/plain": [
       "torch.Size([6, 51])"
      ]
     },
     "execution_count": 32,
     "metadata": {},
     "output_type": "execute_result"
    }
   ],
   "source": [
    "exps.train_basic_att.shape"
   ]
  },
  {
   "cell_type": "code",
   "execution_count": 33,
   "id": "d20c2eac-105d-4b85-9d4f-a38bba4feb5c",
   "metadata": {},
   "outputs": [
    {
     "data": {
      "text/plain": [
       "torch.Size([6, 5, 58])"
      ]
     },
     "execution_count": 33,
     "metadata": {},
     "output_type": "execute_result"
    }
   ],
   "source": [
    "exps.test_seq.shape"
   ]
  },
  {
   "cell_type": "code",
   "execution_count": 34,
   "id": "3fe646ba-0bdd-4549-8999-3af07811aa42",
   "metadata": {},
   "outputs": [
    {
     "data": {
      "text/plain": [
       "torch.Size([6, 5, 57])"
      ]
     },
     "execution_count": 34,
     "metadata": {},
     "output_type": "execute_result"
    }
   ],
   "source": [
    "exps.test_act.shape"
   ]
  },
  {
   "cell_type": "code",
   "execution_count": 35,
   "id": "c0f0c424-b433-46d0-b364-c1bbd87075a2",
   "metadata": {},
   "outputs": [
    {
     "data": {
      "text/plain": [
       "torch.Size([1, 6])"
      ]
     },
     "execution_count": 35,
     "metadata": {},
     "output_type": "execute_result"
    }
   ],
   "source": [
    "exps.test_ans[None, :].shape"
   ]
  },
  {
   "cell_type": "code",
   "execution_count": null,
   "id": "bae7e303-db64-46d1-8da4-0facd08d3ae7",
   "metadata": {},
   "outputs": [],
   "source": []
  },
  {
   "cell_type": "code",
   "execution_count": null,
   "id": "c2e9f04f-b0d4-40c3-b195-36c3a1b3e031",
   "metadata": {},
   "outputs": [],
   "source": []
  },
  {
   "cell_type": "code",
   "execution_count": 66,
   "id": "5e648c89-6b35-4f25-9f7b-6d4eb0f6de6c",
   "metadata": {},
   "outputs": [],
   "source": [
    "from chatgpt.replay_buffer import FDReplayBuffer\n",
    "from chatgpt.nn.utils import zero_pad_sequences, shrink_mask"
   ]
  },
  {
   "cell_type": "code",
   "execution_count": 67,
   "id": "71961243-d121-4f3a-b9b4-7e5568d1ff8f",
   "metadata": {},
   "outputs": [],
   "source": [
    "buffer = FDReplayBuffer(sample_batch_size=2, exp_class=SandBoxExperience)"
   ]
  },
  {
   "cell_type": "code",
   "execution_count": 72,
   "id": "14cb572f-6527-457b-a0bf-6f0c88deb91f",
   "metadata": {},
   "outputs": [],
   "source": [
    "exp = experience_maker.make_experience(data[0:6])"
   ]
  },
  {
   "cell_type": "code",
   "execution_count": 73,
   "id": "66ebcef8-9d05-482b-8c52-bf04901f98b6",
   "metadata": {},
   "outputs": [
    {
     "name": "stdout",
     "output_type": "stream",
     "text": [
      "train_basic_seq torch.Size([6, 51])\n",
      "train_basic_att torch.Size([6, 51])\n",
      "train_basic_act torch.Size([6, 50])\n",
      "train_detail_seq torch.Size([6, 90])\n",
      "train_detail_att torch.Size([6, 90])\n",
      "train_detail_act torch.Size([6, 89])\n",
      "test_seq torch.Size([6, 5, 58])\n",
      "test_att torch.Size([6, 5, 58])\n",
      "test_act torch.Size([6, 5, 57])\n",
      "test_ans torch.Size([6])\n"
     ]
    }
   ],
   "source": [
    "for k, v in exp.__dict__.items():\n",
    "    print(k, v.shape)"
   ]
  },
  {
   "cell_type": "code",
   "execution_count": 74,
   "id": "91e8a2a0-3f04-4143-87ac-839c82a78008",
   "metadata": {},
   "outputs": [],
   "source": [
    "buffer.append(exp)"
   ]
  },
  {
   "cell_type": "code",
   "execution_count": 75,
   "id": "38f5e1a4-738c-4a89-8b5c-1312c2b755cb",
   "metadata": {},
   "outputs": [
    {
     "data": {
      "text/plain": [
       "7"
      ]
     },
     "execution_count": 75,
     "metadata": {},
     "output_type": "execute_result"
    }
   ],
   "source": [
    "len(buffer)"
   ]
  },
  {
   "cell_type": "code",
   "execution_count": 76,
   "id": "35b12537-9276-4a17-97f7-31dc94397f94",
   "metadata": {},
   "outputs": [
    {
     "name": "stdout",
     "output_type": "stream",
     "text": [
      "torch.Size([1, 51])\n",
      "torch.Size([1, 51])\n",
      "torch.Size([1, 50])\n",
      "torch.Size([1, 90])\n",
      "torch.Size([1, 90])\n",
      "torch.Size([1, 89])\n",
      "torch.Size([1, 5, 58])\n",
      "torch.Size([1, 5, 58])\n",
      "torch.Size([1, 5, 57])\n",
      "torch.Size([1])\n"
     ]
    }
   ],
   "source": [
    "for v in buffer.items[5].values():\n",
    "    print(v.shape)"
   ]
  },
  {
   "cell_type": "code",
   "execution_count": 78,
   "id": "54563511-29c2-448b-ac1b-506efe00bfe9",
   "metadata": {},
   "outputs": [
    {
     "name": "stdout",
     "output_type": "stream",
     "text": [
      "train_basic_seq torch.Size([4, 51])\n",
      "train_basic_att torch.Size([4, 51])\n",
      "train_basic_act torch.Size([4, 50])\n",
      "train_detail_seq torch.Size([4, 90])\n",
      "train_detail_att torch.Size([4, 90])\n",
      "train_detail_act torch.Size([4, 89])\n",
      "test_seq torch.Size([4, 5, 58])\n",
      "test_att torch.Size([4, 5, 58])\n",
      "test_act torch.Size([4, 5, 57])\n",
      "test_ans torch.Size([4])\n"
     ]
    }
   ],
   "source": [
    "for k, v in buffer.sample(4).__dict__.items():\n",
    "    print(k, v.shape)"
   ]
  },
  {
   "cell_type": "code",
   "execution_count": 80,
   "id": "d58d4e07-e760-4bfa-b740-0fd51b2240d5",
   "metadata": {},
   "outputs": [
    {
     "data": {
      "text/plain": [
       "['<s> [TEST] Grace is a 31-year-old female. Given the following options of flower, which will probabily attract Grace: daisy, lily, sunflower, or tulip? [/TEST] Daisy.</s><unk><unk><unk>',\n",
       " '<s> [TEST] Grace is a 31-year-old female. Given the following options of flower, which will probabily attract Grace: daisy, lily, sunflower, or tulip? [/TEST] Lily.</s><unk><unk><unk><unk>',\n",
       " '<s> [TEST] Grace is a 31-year-old female. Given the following options of flower, which will probabily attract Grace: daisy, lily, sunflower, or tulip? [/TEST] Sunflower.</s><unk><unk><unk>',\n",
       " '<s> [TEST] Grace is a 31-year-old female. Given the following options of flower, which will probabily attract Grace: daisy, lily, sunflower, or tulip? [/TEST] Tulip.</s><unk><unk><unk><unk>',\n",
       " \"<s> [TEST] Grace is a 31-year-old female. Given the following options of flower, which will probabily attract Grace: daisy, lily, sunflower, or tulip? [/TEST] I don't know.</s><unk>\"]"
      ]
     },
     "execution_count": 80,
     "metadata": {},
     "output_type": "execute_result"
    }
   ],
   "source": [
    "exp = buffer.sample(3)\n",
    "tokenizer.batch_decode(exp.test_seq[2]*exp.test_att[2])"
   ]
  },
  {
   "cell_type": "code",
   "execution_count": null,
   "id": "953026ac-6b9d-404f-8a06-6671cd1ebf6b",
   "metadata": {},
   "outputs": [],
   "source": []
  },
  {
   "cell_type": "code",
   "execution_count": null,
   "id": "3d0b77f2-8368-43fe-ace2-0b7b597e7829",
   "metadata": {},
   "outputs": [],
   "source": []
  },
  {
   "cell_type": "code",
   "execution_count": 83,
   "id": "2200fc03-19c2-4a96-9bed-4e26e0ed5f75",
   "metadata": {},
   "outputs": [
    {
     "data": {
      "text/plain": [
       "tensor([ 1.3412, -0.9178, -1.8281])"
      ]
     },
     "execution_count": 83,
     "metadata": {},
     "output_type": "execute_result"
    }
   ],
   "source": [
    "torch.randn(3,3).sum(-1)"
   ]
  },
  {
   "cell_type": "code",
   "execution_count": 85,
   "id": "8cf22484-625f-47bc-aff1-85156320c9fd",
   "metadata": {},
   "outputs": [
    {
     "ename": "SyntaxError",
     "evalue": "expected 'else' after 'if' expression (2494605041.py, line 1)",
     "output_type": "error",
     "traceback": [
      "\u001b[0;36m  Cell \u001b[0;32mIn[85], line 1\u001b[0;36m\u001b[0m\n\u001b[0;31m    [i if i > 5 for i in range(10) ]\u001b[0m\n\u001b[0m     ^\u001b[0m\n\u001b[0;31mSyntaxError\u001b[0m\u001b[0;31m:\u001b[0m expected 'else' after 'if' expression\n"
     ]
    }
   ],
   "source": [
    "[i if i > 5 for i in range(10) ]"
   ]
  },
  {
   "cell_type": "code",
   "execution_count": 86,
   "id": "78b8d7f5-c85e-4ba7-aea3-8d03b0457252",
   "metadata": {},
   "outputs": [],
   "source": [
    "import math"
   ]
  },
  {
   "cell_type": "code",
   "execution_count": 87,
   "id": "f3c21b60-7ff9-4fb7-afa8-16d24e413bb5",
   "metadata": {},
   "outputs": [
    {
     "data": {
      "text/plain": [
       "4.658886145103398e-15"
      ]
     },
     "execution_count": 87,
     "metadata": {},
     "output_type": "execute_result"
    }
   ],
   "source": [
    "math.exp(-33)"
   ]
  },
  {
   "cell_type": "code",
   "execution_count": null,
   "id": "c051f01e-fce8-40ba-8d76-595d0b1c97af",
   "metadata": {},
   "outputs": [],
   "source": []
  }
 ],
 "metadata": {
  "kernelspec": {
   "display_name": "Python 3 (ipykernel)",
   "language": "python",
   "name": "python3"
  },
  "language_info": {
   "codemirror_mode": {
    "name": "ipython",
    "version": 3
   },
   "file_extension": ".py",
   "mimetype": "text/x-python",
   "name": "python",
   "nbconvert_exporter": "python",
   "pygments_lexer": "ipython3",
   "version": "3.11.5"
  }
 },
 "nbformat": 4,
 "nbformat_minor": 5
}
